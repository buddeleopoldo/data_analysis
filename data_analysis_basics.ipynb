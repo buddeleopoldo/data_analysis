{
 "cells": [
  {
   "cell_type": "markdown",
   "metadata": {},
   "source": [
    "# General setup and data manipulation"
   ]
  },
  {
   "cell_type": "markdown",
   "metadata": {},
   "source": [
    "## Libraries import and data reading"
   ]
  },
  {
   "cell_type": "code",
   "execution_count": 1,
   "metadata": {},
   "outputs": [
    {
     "data": {
      "text/html": [
       "<div>\n",
       "<style scoped>\n",
       "    .dataframe tbody tr th:only-of-type {\n",
       "        vertical-align: middle;\n",
       "    }\n",
       "\n",
       "    .dataframe tbody tr th {\n",
       "        vertical-align: top;\n",
       "    }\n",
       "\n",
       "    .dataframe thead th {\n",
       "        text-align: right;\n",
       "    }\n",
       "</style>\n",
       "<table border=\"1\" class=\"dataframe\">\n",
       "  <thead>\n",
       "    <tr style=\"text-align: right;\">\n",
       "      <th></th>\n",
       "      <th>Fecha y hora</th>\n",
       "      <th>Sexo</th>\n",
       "      <th>Edad</th>\n",
       "      <th>Signo</th>\n",
       "      <th>Ocupacion</th>\n",
       "      <th>Ingreso junior</th>\n",
       "      <th>Ingreso senior</th>\n",
       "    </tr>\n",
       "  </thead>\n",
       "  <tbody>\n",
       "    <tr>\n",
       "      <th>0</th>\n",
       "      <td>31/03/2020 17:10:01</td>\n",
       "      <td>Mujer</td>\n",
       "      <td>27</td>\n",
       "      <td>Tauro</td>\n",
       "      <td>Programadora</td>\n",
       "      <td>40000</td>\n",
       "      <td>80000</td>\n",
       "    </tr>\n",
       "    <tr>\n",
       "      <th>1</th>\n",
       "      <td>12/05/2020 15:19:14</td>\n",
       "      <td>Mujer</td>\n",
       "      <td>40</td>\n",
       "      <td>Acuario</td>\n",
       "      <td>Docente investigadora</td>\n",
       "      <td>50000</td>\n",
       "      <td>90000</td>\n",
       "    </tr>\n",
       "    <tr>\n",
       "      <th>2</th>\n",
       "      <td>13/05/2020 13:43:48</td>\n",
       "      <td>Hombre</td>\n",
       "      <td>22</td>\n",
       "      <td>Géminis</td>\n",
       "      <td>Estudiante de Astronomía</td>\n",
       "      <td>25000</td>\n",
       "      <td>60000</td>\n",
       "    </tr>\n",
       "  </tbody>\n",
       "</table>\n",
       "</div>"
      ],
      "text/plain": [
       "          Fecha y hora    Sexo  Edad    Signo                 Ocupacion  \\\n",
       "0  31/03/2020 17:10:01   Mujer    27    Tauro              Programadora   \n",
       "1  12/05/2020 15:19:14   Mujer    40  Acuario     Docente investigadora   \n",
       "2  13/05/2020 13:43:48  Hombre    22  Géminis  Estudiante de Astronomía   \n",
       "\n",
       "   Ingreso junior  Ingreso senior  \n",
       "0           40000           80000  \n",
       "1           50000           90000  \n",
       "2           25000           60000  "
      ]
     },
     "metadata": {},
     "output_type": "display_data"
    },
    {
     "data": {
      "text/html": [
       "<div>\n",
       "<style scoped>\n",
       "    .dataframe tbody tr th:only-of-type {\n",
       "        vertical-align: middle;\n",
       "    }\n",
       "\n",
       "    .dataframe tbody tr th {\n",
       "        vertical-align: top;\n",
       "    }\n",
       "\n",
       "    .dataframe thead th {\n",
       "        text-align: right;\n",
       "    }\n",
       "</style>\n",
       "<table border=\"1\" class=\"dataframe\">\n",
       "  <thead>\n",
       "    <tr style=\"text-align: right;\">\n",
       "      <th></th>\n",
       "      <th>Respondent</th>\n",
       "      <th>MainBranch</th>\n",
       "      <th>Hobbyist</th>\n",
       "      <th>OpenSourcer</th>\n",
       "      <th>OpenSource</th>\n",
       "      <th>Employment</th>\n",
       "      <th>Country</th>\n",
       "      <th>Student</th>\n",
       "      <th>EdLevel</th>\n",
       "      <th>UndergradMajor</th>\n",
       "      <th>...</th>\n",
       "      <th>WelcomeChange</th>\n",
       "      <th>SONewContent</th>\n",
       "      <th>Age</th>\n",
       "      <th>Gender</th>\n",
       "      <th>Trans</th>\n",
       "      <th>Sexuality</th>\n",
       "      <th>Ethnicity</th>\n",
       "      <th>Dependents</th>\n",
       "      <th>SurveyLength</th>\n",
       "      <th>SurveyEase</th>\n",
       "    </tr>\n",
       "  </thead>\n",
       "  <tbody>\n",
       "    <tr>\n",
       "      <th>0</th>\n",
       "      <td>1</td>\n",
       "      <td>I am a student who is learning to code</td>\n",
       "      <td>Yes</td>\n",
       "      <td>Never</td>\n",
       "      <td>The quality of OSS and closed source software ...</td>\n",
       "      <td>Not employed, and not looking for work</td>\n",
       "      <td>United Kingdom</td>\n",
       "      <td>No</td>\n",
       "      <td>Primary/elementary school</td>\n",
       "      <td>NaN</td>\n",
       "      <td>...</td>\n",
       "      <td>Just as welcome now as I felt last year</td>\n",
       "      <td>Tech articles written by other developers;Indu...</td>\n",
       "      <td>14.0</td>\n",
       "      <td>Man</td>\n",
       "      <td>No</td>\n",
       "      <td>Straight / Heterosexual</td>\n",
       "      <td>NaN</td>\n",
       "      <td>No</td>\n",
       "      <td>Appropriate in length</td>\n",
       "      <td>Neither easy nor difficult</td>\n",
       "    </tr>\n",
       "  </tbody>\n",
       "</table>\n",
       "<p>1 rows × 85 columns</p>\n",
       "</div>"
      ],
      "text/plain": [
       "   Respondent                              MainBranch Hobbyist OpenSourcer  \\\n",
       "0           1  I am a student who is learning to code      Yes       Never   \n",
       "\n",
       "                                          OpenSource  \\\n",
       "0  The quality of OSS and closed source software ...   \n",
       "\n",
       "                               Employment         Country Student  \\\n",
       "0  Not employed, and not looking for work  United Kingdom      No   \n",
       "\n",
       "                     EdLevel UndergradMajor  ...  \\\n",
       "0  Primary/elementary school            NaN  ...   \n",
       "\n",
       "                             WelcomeChange  \\\n",
       "0  Just as welcome now as I felt last year   \n",
       "\n",
       "                                        SONewContent   Age Gender Trans  \\\n",
       "0  Tech articles written by other developers;Indu...  14.0    Man    No   \n",
       "\n",
       "                 Sexuality Ethnicity Dependents           SurveyLength  \\\n",
       "0  Straight / Heterosexual       NaN         No  Appropriate in length   \n",
       "\n",
       "                   SurveyEase  \n",
       "0  Neither easy nor difficult  \n",
       "\n",
       "[1 rows x 85 columns]"
      ]
     },
     "metadata": {},
     "output_type": "display_data"
    }
   ],
   "source": [
    "import pandas as pd\n",
    "import seaborn as sb\n",
    "import matplotlib.pyplot as plt\n",
    "import numpy\n",
    "from IPython.display import display\n",
    "\n",
    "df1 = pd.read_csv('data/Dataset.csv')\n",
    "df2 = pd.read_csv('data/survey_results_public.csv')\n",
    "\n",
    "display(df1.head(3))\n",
    "display(df2.head(1))"
   ]
  },
  {
   "cell_type": "markdown",
   "metadata": {},
   "source": [
    "## Data reading again but defining Index and renaming columns"
   ]
  },
  {
   "cell_type": "code",
   "execution_count": 2,
   "metadata": {},
   "outputs": [
    {
     "data": {
      "text/html": [
       "<div>\n",
       "<style scoped>\n",
       "    .dataframe tbody tr th:only-of-type {\n",
       "        vertical-align: middle;\n",
       "    }\n",
       "\n",
       "    .dataframe tbody tr th {\n",
       "        vertical-align: top;\n",
       "    }\n",
       "\n",
       "    .dataframe thead th {\n",
       "        text-align: right;\n",
       "    }\n",
       "</style>\n",
       "<table border=\"1\" class=\"dataframe\">\n",
       "  <thead>\n",
       "    <tr style=\"text-align: right;\">\n",
       "      <th></th>\n",
       "      <th>timestamp</th>\n",
       "      <th>gender</th>\n",
       "      <th>age</th>\n",
       "      <th>zodiac</th>\n",
       "      <th>profession</th>\n",
       "      <th>junior_salary</th>\n",
       "      <th>senior_salary</th>\n",
       "    </tr>\n",
       "  </thead>\n",
       "  <tbody>\n",
       "    <tr>\n",
       "      <th>0</th>\n",
       "      <td>31/03/2020 17:10:01</td>\n",
       "      <td>Mujer</td>\n",
       "      <td>27</td>\n",
       "      <td>Tauro</td>\n",
       "      <td>Programadora</td>\n",
       "      <td>40000</td>\n",
       "      <td>80000</td>\n",
       "    </tr>\n",
       "    <tr>\n",
       "      <th>1</th>\n",
       "      <td>12/05/2020 15:19:14</td>\n",
       "      <td>Mujer</td>\n",
       "      <td>40</td>\n",
       "      <td>Acuario</td>\n",
       "      <td>Docente investigadora</td>\n",
       "      <td>50000</td>\n",
       "      <td>90000</td>\n",
       "    </tr>\n",
       "    <tr>\n",
       "      <th>2</th>\n",
       "      <td>13/05/2020 13:43:48</td>\n",
       "      <td>Hombre</td>\n",
       "      <td>22</td>\n",
       "      <td>Géminis</td>\n",
       "      <td>Estudiante de Astronomía</td>\n",
       "      <td>25000</td>\n",
       "      <td>60000</td>\n",
       "    </tr>\n",
       "  </tbody>\n",
       "</table>\n",
       "</div>"
      ],
      "text/plain": [
       "             timestamp  gender  age   zodiac                profession  \\\n",
       "0  31/03/2020 17:10:01   Mujer   27    Tauro              Programadora   \n",
       "1  12/05/2020 15:19:14   Mujer   40  Acuario     Docente investigadora   \n",
       "2  13/05/2020 13:43:48  Hombre   22  Géminis  Estudiante de Astronomía   \n",
       "\n",
       "   junior_salary  senior_salary  \n",
       "0          40000          80000  \n",
       "1          50000          90000  \n",
       "2          25000          60000  "
      ]
     },
     "metadata": {},
     "output_type": "display_data"
    },
    {
     "data": {
      "text/html": [
       "<div>\n",
       "<style scoped>\n",
       "    .dataframe tbody tr th:only-of-type {\n",
       "        vertical-align: middle;\n",
       "    }\n",
       "\n",
       "    .dataframe tbody tr th {\n",
       "        vertical-align: top;\n",
       "    }\n",
       "\n",
       "    .dataframe thead th {\n",
       "        text-align: right;\n",
       "    }\n",
       "</style>\n",
       "<table border=\"1\" class=\"dataframe\">\n",
       "  <thead>\n",
       "    <tr style=\"text-align: right;\">\n",
       "      <th></th>\n",
       "      <th>MainBranch</th>\n",
       "      <th>Hobbyist</th>\n",
       "      <th>OpenSourcer</th>\n",
       "      <th>OpenSource</th>\n",
       "      <th>Employment</th>\n",
       "      <th>Country</th>\n",
       "      <th>Student</th>\n",
       "      <th>EdLevel</th>\n",
       "      <th>UndergradMajor</th>\n",
       "      <th>EduOther</th>\n",
       "      <th>OrgSize</th>\n",
       "      <th>DevType</th>\n",
       "      <th>YearsCode</th>\n",
       "      <th>Age1stCode</th>\n",
       "      <th>YearsCodePro</th>\n",
       "      <th>CareerSat</th>\n",
       "      <th>JobSat</th>\n",
       "      <th>MgrIdiot</th>\n",
       "      <th>MgrMoney</th>\n",
       "      <th>MgrWant</th>\n",
       "      <th>JobSeek</th>\n",
       "      <th>LastHireDate</th>\n",
       "      <th>LastInt</th>\n",
       "      <th>FizzBuzz</th>\n",
       "      <th>JobFactors</th>\n",
       "      <th>ResumeUpdate</th>\n",
       "      <th>CurrencySymbol</th>\n",
       "      <th>CurrencyDesc</th>\n",
       "      <th>CompTotal</th>\n",
       "      <th>CompFreq</th>\n",
       "      <th>ConvertedComp</th>\n",
       "      <th>WorkWeekHrs</th>\n",
       "      <th>WorkPlan</th>\n",
       "      <th>WorkChallenge</th>\n",
       "      <th>WorkRemote</th>\n",
       "      <th>WorkLoc</th>\n",
       "      <th>ImpSyn</th>\n",
       "      <th>CodeRev</th>\n",
       "      <th>CodeRevHrs</th>\n",
       "      <th>UnitTests</th>\n",
       "      <th>PurchaseHow</th>\n",
       "      <th>PurchaseWhat</th>\n",
       "      <th>LanguageWorkedWith</th>\n",
       "      <th>LanguageDesireNextYear</th>\n",
       "      <th>DatabaseWorkedWith</th>\n",
       "      <th>DatabaseDesireNextYear</th>\n",
       "      <th>PlatformWorkedWith</th>\n",
       "      <th>PlatformDesireNextYear</th>\n",
       "      <th>WebFrameWorkedWith</th>\n",
       "      <th>WebFrameDesireNextYear</th>\n",
       "      <th>MiscTechWorkedWith</th>\n",
       "      <th>MiscTechDesireNextYear</th>\n",
       "      <th>DevEnviron</th>\n",
       "      <th>OpSys</th>\n",
       "      <th>Containers</th>\n",
       "      <th>BlockchainOrg</th>\n",
       "      <th>BlockchainIs</th>\n",
       "      <th>BetterLife</th>\n",
       "      <th>ITperson</th>\n",
       "      <th>OffOn</th>\n",
       "      <th>SocialMedia</th>\n",
       "      <th>Extraversion</th>\n",
       "      <th>ScreenName</th>\n",
       "      <th>SOVisit1st</th>\n",
       "      <th>SOVisitFreq</th>\n",
       "      <th>SOVisitTo</th>\n",
       "      <th>SOFindAnswer</th>\n",
       "      <th>SOTimeSaved</th>\n",
       "      <th>SOHowMuchTime</th>\n",
       "      <th>SOAccount</th>\n",
       "      <th>SOPartFreq</th>\n",
       "      <th>SOJobs</th>\n",
       "      <th>EntTeams</th>\n",
       "      <th>SOComm</th>\n",
       "      <th>WelcomeChange</th>\n",
       "      <th>SONewContent</th>\n",
       "      <th>Age</th>\n",
       "      <th>Gender</th>\n",
       "      <th>Trans</th>\n",
       "      <th>Sexuality</th>\n",
       "      <th>Ethnicity</th>\n",
       "      <th>Dependents</th>\n",
       "      <th>SurveyLength</th>\n",
       "      <th>SurveyEase</th>\n",
       "    </tr>\n",
       "    <tr>\n",
       "      <th>Respondent</th>\n",
       "      <th></th>\n",
       "      <th></th>\n",
       "      <th></th>\n",
       "      <th></th>\n",
       "      <th></th>\n",
       "      <th></th>\n",
       "      <th></th>\n",
       "      <th></th>\n",
       "      <th></th>\n",
       "      <th></th>\n",
       "      <th></th>\n",
       "      <th></th>\n",
       "      <th></th>\n",
       "      <th></th>\n",
       "      <th></th>\n",
       "      <th></th>\n",
       "      <th></th>\n",
       "      <th></th>\n",
       "      <th></th>\n",
       "      <th></th>\n",
       "      <th></th>\n",
       "      <th></th>\n",
       "      <th></th>\n",
       "      <th></th>\n",
       "      <th></th>\n",
       "      <th></th>\n",
       "      <th></th>\n",
       "      <th></th>\n",
       "      <th></th>\n",
       "      <th></th>\n",
       "      <th></th>\n",
       "      <th></th>\n",
       "      <th></th>\n",
       "      <th></th>\n",
       "      <th></th>\n",
       "      <th></th>\n",
       "      <th></th>\n",
       "      <th></th>\n",
       "      <th></th>\n",
       "      <th></th>\n",
       "      <th></th>\n",
       "      <th></th>\n",
       "      <th></th>\n",
       "      <th></th>\n",
       "      <th></th>\n",
       "      <th></th>\n",
       "      <th></th>\n",
       "      <th></th>\n",
       "      <th></th>\n",
       "      <th></th>\n",
       "      <th></th>\n",
       "      <th></th>\n",
       "      <th></th>\n",
       "      <th></th>\n",
       "      <th></th>\n",
       "      <th></th>\n",
       "      <th></th>\n",
       "      <th></th>\n",
       "      <th></th>\n",
       "      <th></th>\n",
       "      <th></th>\n",
       "      <th></th>\n",
       "      <th></th>\n",
       "      <th></th>\n",
       "      <th></th>\n",
       "      <th></th>\n",
       "      <th></th>\n",
       "      <th></th>\n",
       "      <th></th>\n",
       "      <th></th>\n",
       "      <th></th>\n",
       "      <th></th>\n",
       "      <th></th>\n",
       "      <th></th>\n",
       "      <th></th>\n",
       "      <th></th>\n",
       "      <th></th>\n",
       "      <th></th>\n",
       "      <th></th>\n",
       "      <th></th>\n",
       "      <th></th>\n",
       "      <th></th>\n",
       "      <th></th>\n",
       "      <th></th>\n",
       "    </tr>\n",
       "  </thead>\n",
       "  <tbody>\n",
       "    <tr>\n",
       "      <th>1</th>\n",
       "      <td>I am a student who is learning to code</td>\n",
       "      <td>Yes</td>\n",
       "      <td>Never</td>\n",
       "      <td>The quality of OSS and closed source software ...</td>\n",
       "      <td>Not employed, and not looking for work</td>\n",
       "      <td>United Kingdom</td>\n",
       "      <td>No</td>\n",
       "      <td>Primary/elementary school</td>\n",
       "      <td>NaN</td>\n",
       "      <td>Taught yourself a new language, framework, or ...</td>\n",
       "      <td>NaN</td>\n",
       "      <td>NaN</td>\n",
       "      <td>4</td>\n",
       "      <td>10</td>\n",
       "      <td>NaN</td>\n",
       "      <td>NaN</td>\n",
       "      <td>NaN</td>\n",
       "      <td>NaN</td>\n",
       "      <td>NaN</td>\n",
       "      <td>NaN</td>\n",
       "      <td>NaN</td>\n",
       "      <td>NaN</td>\n",
       "      <td>NaN</td>\n",
       "      <td>NaN</td>\n",
       "      <td>NaN</td>\n",
       "      <td>NaN</td>\n",
       "      <td>NaN</td>\n",
       "      <td>NaN</td>\n",
       "      <td>NaN</td>\n",
       "      <td>NaN</td>\n",
       "      <td>NaN</td>\n",
       "      <td>NaN</td>\n",
       "      <td>NaN</td>\n",
       "      <td>NaN</td>\n",
       "      <td>NaN</td>\n",
       "      <td>NaN</td>\n",
       "      <td>NaN</td>\n",
       "      <td>NaN</td>\n",
       "      <td>NaN</td>\n",
       "      <td>NaN</td>\n",
       "      <td>NaN</td>\n",
       "      <td>NaN</td>\n",
       "      <td>HTML/CSS;Java;JavaScript;Python</td>\n",
       "      <td>C;C++;C#;Go;HTML/CSS;Java;JavaScript;Python;SQL</td>\n",
       "      <td>SQLite</td>\n",
       "      <td>MySQL</td>\n",
       "      <td>MacOS;Windows</td>\n",
       "      <td>Android;Arduino;Windows</td>\n",
       "      <td>Django;Flask</td>\n",
       "      <td>Flask;jQuery</td>\n",
       "      <td>Node.js</td>\n",
       "      <td>Node.js</td>\n",
       "      <td>IntelliJ;Notepad++;PyCharm</td>\n",
       "      <td>Windows</td>\n",
       "      <td>I do not use containers</td>\n",
       "      <td>NaN</td>\n",
       "      <td>NaN</td>\n",
       "      <td>Yes</td>\n",
       "      <td>Fortunately, someone else has that title</td>\n",
       "      <td>Yes</td>\n",
       "      <td>Twitter</td>\n",
       "      <td>Online</td>\n",
       "      <td>Username</td>\n",
       "      <td>2017</td>\n",
       "      <td>A few times per month or weekly</td>\n",
       "      <td>Find answers to specific questions;Learn how t...</td>\n",
       "      <td>3-5 times per week</td>\n",
       "      <td>Stack Overflow was much faster</td>\n",
       "      <td>31-60 minutes</td>\n",
       "      <td>No</td>\n",
       "      <td>NaN</td>\n",
       "      <td>No, I didn't know that Stack Overflow had a jo...</td>\n",
       "      <td>No, and I don't know what those are</td>\n",
       "      <td>Neutral</td>\n",
       "      <td>Just as welcome now as I felt last year</td>\n",
       "      <td>Tech articles written by other developers;Indu...</td>\n",
       "      <td>14.0</td>\n",
       "      <td>Man</td>\n",
       "      <td>No</td>\n",
       "      <td>Straight / Heterosexual</td>\n",
       "      <td>NaN</td>\n",
       "      <td>No</td>\n",
       "      <td>Appropriate in length</td>\n",
       "      <td>Neither easy nor difficult</td>\n",
       "    </tr>\n",
       "  </tbody>\n",
       "</table>\n",
       "</div>"
      ],
      "text/plain": [
       "                                        MainBranch Hobbyist OpenSourcer  \\\n",
       "Respondent                                                                \n",
       "1           I am a student who is learning to code      Yes       Never   \n",
       "\n",
       "                                                   OpenSource  \\\n",
       "Respondent                                                      \n",
       "1           The quality of OSS and closed source software ...   \n",
       "\n",
       "                                        Employment         Country Student  \\\n",
       "Respondent                                                                   \n",
       "1           Not employed, and not looking for work  United Kingdom      No   \n",
       "\n",
       "                              EdLevel UndergradMajor  \\\n",
       "Respondent                                             \n",
       "1           Primary/elementary school            NaN   \n",
       "\n",
       "                                                     EduOther OrgSize DevType  \\\n",
       "Respondent                                                                      \n",
       "1           Taught yourself a new language, framework, or ...     NaN     NaN   \n",
       "\n",
       "           YearsCode Age1stCode YearsCodePro CareerSat JobSat MgrIdiot  \\\n",
       "Respondent                                                               \n",
       "1                  4         10          NaN       NaN    NaN      NaN   \n",
       "\n",
       "           MgrMoney MgrWant JobSeek LastHireDate LastInt FizzBuzz JobFactors  \\\n",
       "Respondent                                                                     \n",
       "1               NaN     NaN     NaN          NaN     NaN      NaN        NaN   \n",
       "\n",
       "           ResumeUpdate CurrencySymbol CurrencyDesc  CompTotal CompFreq  \\\n",
       "Respondent                                                                \n",
       "1                   NaN            NaN          NaN        NaN      NaN   \n",
       "\n",
       "            ConvertedComp  WorkWeekHrs WorkPlan WorkChallenge WorkRemote  \\\n",
       "Respondent                                                                 \n",
       "1                     NaN          NaN      NaN           NaN        NaN   \n",
       "\n",
       "           WorkLoc ImpSyn CodeRev  CodeRevHrs UnitTests PurchaseHow  \\\n",
       "Respondent                                                            \n",
       "1              NaN    NaN     NaN         NaN       NaN         NaN   \n",
       "\n",
       "           PurchaseWhat               LanguageWorkedWith  \\\n",
       "Respondent                                                 \n",
       "1                   NaN  HTML/CSS;Java;JavaScript;Python   \n",
       "\n",
       "                                     LanguageDesireNextYear  \\\n",
       "Respondent                                                    \n",
       "1           C;C++;C#;Go;HTML/CSS;Java;JavaScript;Python;SQL   \n",
       "\n",
       "           DatabaseWorkedWith DatabaseDesireNextYear PlatformWorkedWith  \\\n",
       "Respondent                                                                \n",
       "1                      SQLite                  MySQL      MacOS;Windows   \n",
       "\n",
       "             PlatformDesireNextYear WebFrameWorkedWith WebFrameDesireNextYear  \\\n",
       "Respondent                                                                      \n",
       "1           Android;Arduino;Windows       Django;Flask           Flask;jQuery   \n",
       "\n",
       "           MiscTechWorkedWith MiscTechDesireNextYear  \\\n",
       "Respondent                                             \n",
       "1                     Node.js                Node.js   \n",
       "\n",
       "                            DevEnviron    OpSys               Containers  \\\n",
       "Respondent                                                                 \n",
       "1           IntelliJ;Notepad++;PyCharm  Windows  I do not use containers   \n",
       "\n",
       "           BlockchainOrg BlockchainIs BetterLife  \\\n",
       "Respondent                                         \n",
       "1                    NaN          NaN        Yes   \n",
       "\n",
       "                                            ITperson OffOn SocialMedia  \\\n",
       "Respondent                                                               \n",
       "1           Fortunately, someone else has that title   Yes     Twitter   \n",
       "\n",
       "           Extraversion ScreenName SOVisit1st  \\\n",
       "Respondent                                      \n",
       "1                Online   Username       2017   \n",
       "\n",
       "                                SOVisitFreq  \\\n",
       "Respondent                                    \n",
       "1           A few times per month or weekly   \n",
       "\n",
       "                                                    SOVisitTo  \\\n",
       "Respondent                                                      \n",
       "1           Find answers to specific questions;Learn how t...   \n",
       "\n",
       "                  SOFindAnswer                     SOTimeSaved  SOHowMuchTime  \\\n",
       "Respondent                                                                      \n",
       "1           3-5 times per week  Stack Overflow was much faster  31-60 minutes   \n",
       "\n",
       "           SOAccount SOPartFreq  \\\n",
       "Respondent                        \n",
       "1                 No        NaN   \n",
       "\n",
       "                                                       SOJobs  \\\n",
       "Respondent                                                      \n",
       "1           No, I didn't know that Stack Overflow had a jo...   \n",
       "\n",
       "                                       EntTeams   SOComm  \\\n",
       "Respondent                                                 \n",
       "1           No, and I don't know what those are  Neutral   \n",
       "\n",
       "                                      WelcomeChange  \\\n",
       "Respondent                                            \n",
       "1           Just as welcome now as I felt last year   \n",
       "\n",
       "                                                 SONewContent   Age Gender  \\\n",
       "Respondent                                                                   \n",
       "1           Tech articles written by other developers;Indu...  14.0    Man   \n",
       "\n",
       "           Trans                Sexuality Ethnicity Dependents  \\\n",
       "Respondent                                                       \n",
       "1             No  Straight / Heterosexual       NaN         No   \n",
       "\n",
       "                     SurveyLength                  SurveyEase  \n",
       "Respondent                                                     \n",
       "1           Appropriate in length  Neither easy nor difficult  "
      ]
     },
     "metadata": {},
     "output_type": "display_data"
    }
   ],
   "source": [
    "df1 = pd.read_csv('data/Dataset.csv')\n",
    "df1.columns = ['timestamp', 'gender', 'age', 'zodiac', 'profession', 'junior_salary', 'senior_salary']\n",
    "df2 = pd.read_csv('data/survey_results_public.csv', index_col='Respondent')\n",
    "pd.set_option('display.max_columns', 85)\n",
    "\n",
    "display(df1.head(3))\n",
    "display(df2.head(1))"
   ]
  },
  {
   "cell_type": "markdown",
   "metadata": {},
   "source": [
    "## Displaying and manipulating values and indexes"
   ]
  },
  {
   "cell_type": "code",
   "execution_count": 3,
   "metadata": {},
   "outputs": [
    {
     "data": {
      "text/plain": [
       "Index(['timestamp', 'gender', 'age', 'zodiac', 'profession', 'junior_salary',\n",
       "       'senior_salary'],\n",
       "      dtype='object')"
      ]
     },
     "metadata": {},
     "output_type": "display_data"
    },
    {
     "data": {
      "text/plain": [
       "(88883, 84)"
      ]
     },
     "metadata": {},
     "output_type": "display_data"
    }
   ],
   "source": [
    "display(df1.columns)\n",
    "display(df2.shape)"
   ]
  },
  {
   "cell_type": "code",
   "execution_count": 4,
   "metadata": {},
   "outputs": [
    {
     "data": {
      "text/plain": [
       "0      31/03/2020 17:10:01\n",
       "1      12/05/2020 15:19:14\n",
       "2      13/05/2020 13:43:48\n",
       "3      13/05/2020 18:12:04\n",
       "4      14/05/2020 16:30:09\n",
       "              ...         \n",
       "157    27/05/2020 21:27:26\n",
       "158    27/05/2020 21:28:19\n",
       "159    27/05/2020 21:28:52\n",
       "160    27/05/2020 21:30:12\n",
       "161    31/05/2020 20:29:53\n",
       "Name: timestamp, Length: 162, dtype: object"
      ]
     },
     "metadata": {},
     "output_type": "display_data"
    },
    {
     "data": {
      "text/plain": [
       "Respondent\n",
       "1        Yes\n",
       "2         No\n",
       "3        Yes\n",
       "4         No\n",
       "5        Yes\n",
       "        ... \n",
       "88377    Yes\n",
       "88601     No\n",
       "88802     No\n",
       "88816     No\n",
       "88863    Yes\n",
       "Name: Hobbyist, Length: 88883, dtype: object"
      ]
     },
     "metadata": {},
     "output_type": "display_data"
    },
    {
     "data": {
      "text/plain": [
       "9"
      ]
     },
     "metadata": {},
     "output_type": "display_data"
    },
    {
     "data": {
      "text/plain": [
       "99"
      ]
     },
     "metadata": {},
     "output_type": "display_data"
    },
    {
     "data": {
      "text/plain": [
       "array(['Never', 'Less than once per year', 'Once a month or more often',\n",
       "       'Less than once a month but more than once per year'], dtype=object)"
      ]
     },
     "metadata": {},
     "output_type": "display_data"
    },
    {
     "data": {
      "text/plain": [
       "array(['Thailand', 'United States', 'Ukraine'], dtype=object)"
      ]
     },
     "metadata": {},
     "output_type": "display_data"
    },
    {
     "data": {
      "text/html": [
       "<div>\n",
       "<style scoped>\n",
       "    .dataframe tbody tr th:only-of-type {\n",
       "        vertical-align: middle;\n",
       "    }\n",
       "\n",
       "    .dataframe tbody tr th {\n",
       "        vertical-align: top;\n",
       "    }\n",
       "\n",
       "    .dataframe thead th {\n",
       "        text-align: right;\n",
       "    }\n",
       "</style>\n",
       "<table border=\"1\" class=\"dataframe\">\n",
       "  <thead>\n",
       "    <tr style=\"text-align: right;\">\n",
       "      <th></th>\n",
       "      <th>timestamp</th>\n",
       "      <th>gender</th>\n",
       "      <th>age</th>\n",
       "      <th>zodiac</th>\n",
       "      <th>profession</th>\n",
       "      <th>junior_salary</th>\n",
       "      <th>senior_salary</th>\n",
       "    </tr>\n",
       "  </thead>\n",
       "  <tbody>\n",
       "    <tr>\n",
       "      <th>103</th>\n",
       "      <td>21/05/2020 21:51:08</td>\n",
       "      <td>Hombre</td>\n",
       "      <td>32</td>\n",
       "      <td>Leo</td>\n",
       "      <td>Estudiante de doctorado</td>\n",
       "      <td>50000</td>\n",
       "      <td>75000</td>\n",
       "    </tr>\n",
       "    <tr>\n",
       "      <th>96</th>\n",
       "      <td>19/05/2020 20:53:55</td>\n",
       "      <td>Mujer</td>\n",
       "      <td>28</td>\n",
       "      <td>Sagitario</td>\n",
       "      <td>Investigadora-economista</td>\n",
       "      <td>150000</td>\n",
       "      <td>150000</td>\n",
       "    </tr>\n",
       "    <tr>\n",
       "      <th>124</th>\n",
       "      <td>22/05/2020 18:22:20</td>\n",
       "      <td>Hombre</td>\n",
       "      <td>27</td>\n",
       "      <td>Picis</td>\n",
       "      <td>Estudiante</td>\n",
       "      <td>40000</td>\n",
       "      <td>80000</td>\n",
       "    </tr>\n",
       "  </tbody>\n",
       "</table>\n",
       "</div>"
      ],
      "text/plain": [
       "               timestamp  gender  age     zodiac                profession  \\\n",
       "103  21/05/2020 21:51:08  Hombre   32        Leo   Estudiante de doctorado   \n",
       "96   19/05/2020 20:53:55   Mujer   28  Sagitario  Investigadora-economista   \n",
       "124  22/05/2020 18:22:20  Hombre   27      Picis                Estudiante   \n",
       "\n",
       "     junior_salary  senior_salary  \n",
       "103          50000          75000  \n",
       "96          150000         150000  \n",
       "124          40000          80000  "
      ]
     },
     "metadata": {},
     "output_type": "display_data"
    },
    {
     "data": {
      "text/plain": [
       "Respondent\n",
       "21616          Denmark\n",
       "58434    United States\n",
       "31361          Ukraine\n",
       "72267    United States\n",
       "Name: Country, dtype: object"
      ]
     },
     "metadata": {},
     "output_type": "display_data"
    }
   ],
   "source": [
    "display(df1.timestamp)\n",
    "display(df2['Hobbyist'])\n",
    "display(df1.age.min(), df1.age.max())\n",
    "display(df2.OpenSourcer.unique())\n",
    "display(df2.Country.unique()[2:5])\n",
    "display(df1.sample(n=3))\n",
    "obj = df2.Country.sample(n=4)\n",
    "display(obj)"
   ]
  },
  {
   "cell_type": "code",
   "execution_count": 5,
   "metadata": {},
   "outputs": [
    {
     "data": {
      "text/plain": [
       "timestamp        31/03/2020 17:10:01\n",
       "gender                         Mujer\n",
       "age                               27\n",
       "zodiac                         Tauro\n",
       "profession              Programadora\n",
       "junior_salary                  40000\n",
       "senior_salary                  80000\n",
       "Name: 0, dtype: object"
      ]
     },
     "metadata": {},
     "output_type": "display_data"
    },
    {
     "data": {
      "text/html": [
       "<div>\n",
       "<style scoped>\n",
       "    .dataframe tbody tr th:only-of-type {\n",
       "        vertical-align: middle;\n",
       "    }\n",
       "\n",
       "    .dataframe tbody tr th {\n",
       "        vertical-align: top;\n",
       "    }\n",
       "\n",
       "    .dataframe thead th {\n",
       "        text-align: right;\n",
       "    }\n",
       "</style>\n",
       "<table border=\"1\" class=\"dataframe\">\n",
       "  <thead>\n",
       "    <tr style=\"text-align: right;\">\n",
       "      <th></th>\n",
       "      <th>timestamp</th>\n",
       "      <th>gender</th>\n",
       "      <th>age</th>\n",
       "      <th>zodiac</th>\n",
       "    </tr>\n",
       "  </thead>\n",
       "  <tbody>\n",
       "    <tr>\n",
       "      <th>56</th>\n",
       "      <td>15/05/2020 18:19:58</td>\n",
       "      <td>Mujer</td>\n",
       "      <td>39</td>\n",
       "      <td>Libra</td>\n",
       "    </tr>\n",
       "  </tbody>\n",
       "</table>\n",
       "</div>"
      ],
      "text/plain": [
       "              timestamp gender  age zodiac\n",
       "56  15/05/2020 18:19:58  Mujer   39  Libra"
      ]
     },
     "metadata": {},
     "output_type": "display_data"
    },
    {
     "data": {
      "text/html": [
       "<div>\n",
       "<style scoped>\n",
       "    .dataframe tbody tr th:only-of-type {\n",
       "        vertical-align: middle;\n",
       "    }\n",
       "\n",
       "    .dataframe tbody tr th {\n",
       "        vertical-align: top;\n",
       "    }\n",
       "\n",
       "    .dataframe thead th {\n",
       "        text-align: right;\n",
       "    }\n",
       "</style>\n",
       "<table border=\"1\" class=\"dataframe\">\n",
       "  <thead>\n",
       "    <tr style=\"text-align: right;\">\n",
       "      <th></th>\n",
       "      <th>gender</th>\n",
       "      <th>profession</th>\n",
       "    </tr>\n",
       "  </thead>\n",
       "  <tbody>\n",
       "    <tr>\n",
       "      <th>1</th>\n",
       "      <td>Mujer</td>\n",
       "      <td>Docente investigadora</td>\n",
       "    </tr>\n",
       "    <tr>\n",
       "      <th>27</th>\n",
       "      <td>Hombre</td>\n",
       "      <td>Programador</td>\n",
       "    </tr>\n",
       "  </tbody>\n",
       "</table>\n",
       "</div>"
      ],
      "text/plain": [
       "    gender             profession\n",
       "1    Mujer  Docente investigadora\n",
       "27  Hombre            Programador"
      ]
     },
     "metadata": {},
     "output_type": "display_data"
    },
    {
     "data": {
      "text/html": [
       "<div>\n",
       "<style scoped>\n",
       "    .dataframe tbody tr th:only-of-type {\n",
       "        vertical-align: middle;\n",
       "    }\n",
       "\n",
       "    .dataframe tbody tr th {\n",
       "        vertical-align: top;\n",
       "    }\n",
       "\n",
       "    .dataframe thead th {\n",
       "        text-align: right;\n",
       "    }\n",
       "</style>\n",
       "<table border=\"1\" class=\"dataframe\">\n",
       "  <thead>\n",
       "    <tr style=\"text-align: right;\">\n",
       "      <th></th>\n",
       "      <th>MainBranch</th>\n",
       "      <th>Hobbyist</th>\n",
       "      <th>OpenSourcer</th>\n",
       "      <th>OpenSource</th>\n",
       "      <th>Employment</th>\n",
       "      <th>Country</th>\n",
       "      <th>Student</th>\n",
       "      <th>EdLevel</th>\n",
       "      <th>UndergradMajor</th>\n",
       "      <th>EduOther</th>\n",
       "      <th>OrgSize</th>\n",
       "      <th>DevType</th>\n",
       "      <th>YearsCode</th>\n",
       "      <th>Age1stCode</th>\n",
       "      <th>YearsCodePro</th>\n",
       "      <th>CareerSat</th>\n",
       "      <th>JobSat</th>\n",
       "      <th>MgrIdiot</th>\n",
       "      <th>MgrMoney</th>\n",
       "      <th>MgrWant</th>\n",
       "      <th>JobSeek</th>\n",
       "      <th>LastHireDate</th>\n",
       "      <th>LastInt</th>\n",
       "      <th>FizzBuzz</th>\n",
       "      <th>JobFactors</th>\n",
       "      <th>ResumeUpdate</th>\n",
       "      <th>CurrencySymbol</th>\n",
       "      <th>CurrencyDesc</th>\n",
       "      <th>CompTotal</th>\n",
       "      <th>CompFreq</th>\n",
       "      <th>ConvertedComp</th>\n",
       "      <th>WorkWeekHrs</th>\n",
       "      <th>WorkPlan</th>\n",
       "      <th>WorkChallenge</th>\n",
       "      <th>WorkRemote</th>\n",
       "      <th>WorkLoc</th>\n",
       "      <th>ImpSyn</th>\n",
       "      <th>CodeRev</th>\n",
       "      <th>CodeRevHrs</th>\n",
       "      <th>UnitTests</th>\n",
       "      <th>PurchaseHow</th>\n",
       "      <th>PurchaseWhat</th>\n",
       "      <th>LanguageWorkedWith</th>\n",
       "      <th>LanguageDesireNextYear</th>\n",
       "      <th>DatabaseWorkedWith</th>\n",
       "      <th>DatabaseDesireNextYear</th>\n",
       "      <th>PlatformWorkedWith</th>\n",
       "      <th>PlatformDesireNextYear</th>\n",
       "      <th>WebFrameWorkedWith</th>\n",
       "      <th>WebFrameDesireNextYear</th>\n",
       "      <th>MiscTechWorkedWith</th>\n",
       "      <th>MiscTechDesireNextYear</th>\n",
       "      <th>DevEnviron</th>\n",
       "      <th>OpSys</th>\n",
       "      <th>Containers</th>\n",
       "      <th>BlockchainOrg</th>\n",
       "      <th>BlockchainIs</th>\n",
       "      <th>BetterLife</th>\n",
       "      <th>ITperson</th>\n",
       "      <th>OffOn</th>\n",
       "      <th>SocialMedia</th>\n",
       "      <th>Extraversion</th>\n",
       "      <th>ScreenName</th>\n",
       "      <th>SOVisit1st</th>\n",
       "      <th>SOVisitFreq</th>\n",
       "      <th>SOVisitTo</th>\n",
       "      <th>SOFindAnswer</th>\n",
       "      <th>SOTimeSaved</th>\n",
       "      <th>SOHowMuchTime</th>\n",
       "      <th>SOAccount</th>\n",
       "      <th>SOPartFreq</th>\n",
       "      <th>SOJobs</th>\n",
       "      <th>EntTeams</th>\n",
       "      <th>SOComm</th>\n",
       "      <th>WelcomeChange</th>\n",
       "      <th>SONewContent</th>\n",
       "      <th>Age</th>\n",
       "      <th>Gender</th>\n",
       "      <th>Trans</th>\n",
       "      <th>Sexuality</th>\n",
       "      <th>Ethnicity</th>\n",
       "      <th>Dependents</th>\n",
       "      <th>SurveyLength</th>\n",
       "      <th>SurveyEase</th>\n",
       "    </tr>\n",
       "    <tr>\n",
       "      <th>Respondent</th>\n",
       "      <th></th>\n",
       "      <th></th>\n",
       "      <th></th>\n",
       "      <th></th>\n",
       "      <th></th>\n",
       "      <th></th>\n",
       "      <th></th>\n",
       "      <th></th>\n",
       "      <th></th>\n",
       "      <th></th>\n",
       "      <th></th>\n",
       "      <th></th>\n",
       "      <th></th>\n",
       "      <th></th>\n",
       "      <th></th>\n",
       "      <th></th>\n",
       "      <th></th>\n",
       "      <th></th>\n",
       "      <th></th>\n",
       "      <th></th>\n",
       "      <th></th>\n",
       "      <th></th>\n",
       "      <th></th>\n",
       "      <th></th>\n",
       "      <th></th>\n",
       "      <th></th>\n",
       "      <th></th>\n",
       "      <th></th>\n",
       "      <th></th>\n",
       "      <th></th>\n",
       "      <th></th>\n",
       "      <th></th>\n",
       "      <th></th>\n",
       "      <th></th>\n",
       "      <th></th>\n",
       "      <th></th>\n",
       "      <th></th>\n",
       "      <th></th>\n",
       "      <th></th>\n",
       "      <th></th>\n",
       "      <th></th>\n",
       "      <th></th>\n",
       "      <th></th>\n",
       "      <th></th>\n",
       "      <th></th>\n",
       "      <th></th>\n",
       "      <th></th>\n",
       "      <th></th>\n",
       "      <th></th>\n",
       "      <th></th>\n",
       "      <th></th>\n",
       "      <th></th>\n",
       "      <th></th>\n",
       "      <th></th>\n",
       "      <th></th>\n",
       "      <th></th>\n",
       "      <th></th>\n",
       "      <th></th>\n",
       "      <th></th>\n",
       "      <th></th>\n",
       "      <th></th>\n",
       "      <th></th>\n",
       "      <th></th>\n",
       "      <th></th>\n",
       "      <th></th>\n",
       "      <th></th>\n",
       "      <th></th>\n",
       "      <th></th>\n",
       "      <th></th>\n",
       "      <th></th>\n",
       "      <th></th>\n",
       "      <th></th>\n",
       "      <th></th>\n",
       "      <th></th>\n",
       "      <th></th>\n",
       "      <th></th>\n",
       "      <th></th>\n",
       "      <th></th>\n",
       "      <th></th>\n",
       "      <th></th>\n",
       "      <th></th>\n",
       "      <th></th>\n",
       "      <th></th>\n",
       "      <th></th>\n",
       "    </tr>\n",
       "  </thead>\n",
       "  <tbody>\n",
       "    <tr>\n",
       "      <th>1</th>\n",
       "      <td>I am a student who is learning to code</td>\n",
       "      <td>Yes</td>\n",
       "      <td>Never</td>\n",
       "      <td>The quality of OSS and closed source software ...</td>\n",
       "      <td>Not employed, and not looking for work</td>\n",
       "      <td>United Kingdom</td>\n",
       "      <td>No</td>\n",
       "      <td>Primary/elementary school</td>\n",
       "      <td>NaN</td>\n",
       "      <td>Taught yourself a new language, framework, or ...</td>\n",
       "      <td>NaN</td>\n",
       "      <td>NaN</td>\n",
       "      <td>4</td>\n",
       "      <td>10</td>\n",
       "      <td>NaN</td>\n",
       "      <td>NaN</td>\n",
       "      <td>NaN</td>\n",
       "      <td>NaN</td>\n",
       "      <td>NaN</td>\n",
       "      <td>NaN</td>\n",
       "      <td>NaN</td>\n",
       "      <td>NaN</td>\n",
       "      <td>NaN</td>\n",
       "      <td>NaN</td>\n",
       "      <td>NaN</td>\n",
       "      <td>NaN</td>\n",
       "      <td>NaN</td>\n",
       "      <td>NaN</td>\n",
       "      <td>NaN</td>\n",
       "      <td>NaN</td>\n",
       "      <td>NaN</td>\n",
       "      <td>NaN</td>\n",
       "      <td>NaN</td>\n",
       "      <td>NaN</td>\n",
       "      <td>NaN</td>\n",
       "      <td>NaN</td>\n",
       "      <td>NaN</td>\n",
       "      <td>NaN</td>\n",
       "      <td>NaN</td>\n",
       "      <td>NaN</td>\n",
       "      <td>NaN</td>\n",
       "      <td>NaN</td>\n",
       "      <td>HTML/CSS;Java;JavaScript;Python</td>\n",
       "      <td>C;C++;C#;Go;HTML/CSS;Java;JavaScript;Python;SQL</td>\n",
       "      <td>SQLite</td>\n",
       "      <td>MySQL</td>\n",
       "      <td>MacOS;Windows</td>\n",
       "      <td>Android;Arduino;Windows</td>\n",
       "      <td>Django;Flask</td>\n",
       "      <td>Flask;jQuery</td>\n",
       "      <td>Node.js</td>\n",
       "      <td>Node.js</td>\n",
       "      <td>IntelliJ;Notepad++;PyCharm</td>\n",
       "      <td>Windows</td>\n",
       "      <td>I do not use containers</td>\n",
       "      <td>NaN</td>\n",
       "      <td>NaN</td>\n",
       "      <td>Yes</td>\n",
       "      <td>Fortunately, someone else has that title</td>\n",
       "      <td>Yes</td>\n",
       "      <td>Twitter</td>\n",
       "      <td>Online</td>\n",
       "      <td>Username</td>\n",
       "      <td>2017</td>\n",
       "      <td>A few times per month or weekly</td>\n",
       "      <td>Find answers to specific questions;Learn how t...</td>\n",
       "      <td>3-5 times per week</td>\n",
       "      <td>Stack Overflow was much faster</td>\n",
       "      <td>31-60 minutes</td>\n",
       "      <td>No</td>\n",
       "      <td>NaN</td>\n",
       "      <td>No, I didn't know that Stack Overflow had a jo...</td>\n",
       "      <td>No, and I don't know what those are</td>\n",
       "      <td>Neutral</td>\n",
       "      <td>Just as welcome now as I felt last year</td>\n",
       "      <td>Tech articles written by other developers;Indu...</td>\n",
       "      <td>14.0</td>\n",
       "      <td>Man</td>\n",
       "      <td>No</td>\n",
       "      <td>Straight / Heterosexual</td>\n",
       "      <td>NaN</td>\n",
       "      <td>No</td>\n",
       "      <td>Appropriate in length</td>\n",
       "      <td>Neither easy nor difficult</td>\n",
       "    </tr>\n",
       "    <tr>\n",
       "      <th>2</th>\n",
       "      <td>I am a student who is learning to code</td>\n",
       "      <td>No</td>\n",
       "      <td>Less than once per year</td>\n",
       "      <td>The quality of OSS and closed source software ...</td>\n",
       "      <td>Not employed, but looking for work</td>\n",
       "      <td>Bosnia and Herzegovina</td>\n",
       "      <td>Yes, full-time</td>\n",
       "      <td>Secondary school (e.g. American high school, G...</td>\n",
       "      <td>NaN</td>\n",
       "      <td>Taken an online course in programming or softw...</td>\n",
       "      <td>NaN</td>\n",
       "      <td>Developer, desktop or enterprise applications;...</td>\n",
       "      <td>NaN</td>\n",
       "      <td>17</td>\n",
       "      <td>NaN</td>\n",
       "      <td>NaN</td>\n",
       "      <td>NaN</td>\n",
       "      <td>NaN</td>\n",
       "      <td>NaN</td>\n",
       "      <td>NaN</td>\n",
       "      <td>I am actively looking for a job</td>\n",
       "      <td>I've never had a job</td>\n",
       "      <td>NaN</td>\n",
       "      <td>NaN</td>\n",
       "      <td>Financial performance or funding status of the...</td>\n",
       "      <td>Something else changed (education, award, medi...</td>\n",
       "      <td>NaN</td>\n",
       "      <td>NaN</td>\n",
       "      <td>NaN</td>\n",
       "      <td>NaN</td>\n",
       "      <td>NaN</td>\n",
       "      <td>NaN</td>\n",
       "      <td>NaN</td>\n",
       "      <td>NaN</td>\n",
       "      <td>NaN</td>\n",
       "      <td>NaN</td>\n",
       "      <td>NaN</td>\n",
       "      <td>NaN</td>\n",
       "      <td>NaN</td>\n",
       "      <td>NaN</td>\n",
       "      <td>NaN</td>\n",
       "      <td>NaN</td>\n",
       "      <td>C++;HTML/CSS;Python</td>\n",
       "      <td>C++;HTML/CSS;JavaScript;SQL</td>\n",
       "      <td>NaN</td>\n",
       "      <td>MySQL</td>\n",
       "      <td>Windows</td>\n",
       "      <td>Windows</td>\n",
       "      <td>Django</td>\n",
       "      <td>Django</td>\n",
       "      <td>NaN</td>\n",
       "      <td>NaN</td>\n",
       "      <td>Atom;PyCharm</td>\n",
       "      <td>Windows</td>\n",
       "      <td>I do not use containers</td>\n",
       "      <td>NaN</td>\n",
       "      <td>Useful across many domains and could change ma...</td>\n",
       "      <td>Yes</td>\n",
       "      <td>Yes</td>\n",
       "      <td>Yes</td>\n",
       "      <td>Instagram</td>\n",
       "      <td>Online</td>\n",
       "      <td>Username</td>\n",
       "      <td>2017</td>\n",
       "      <td>Daily or almost daily</td>\n",
       "      <td>Find answers to specific questions;Learn how t...</td>\n",
       "      <td>3-5 times per week</td>\n",
       "      <td>Stack Overflow was much faster</td>\n",
       "      <td>11-30 minutes</td>\n",
       "      <td>Yes</td>\n",
       "      <td>A few times per month or weekly</td>\n",
       "      <td>No, I knew that Stack Overflow had a job board...</td>\n",
       "      <td>No, and I don't know what those are</td>\n",
       "      <td>Yes, somewhat</td>\n",
       "      <td>Just as welcome now as I felt last year</td>\n",
       "      <td>Tech articles written by other developers;Indu...</td>\n",
       "      <td>19.0</td>\n",
       "      <td>Man</td>\n",
       "      <td>No</td>\n",
       "      <td>Straight / Heterosexual</td>\n",
       "      <td>NaN</td>\n",
       "      <td>No</td>\n",
       "      <td>Appropriate in length</td>\n",
       "      <td>Neither easy nor difficult</td>\n",
       "    </tr>\n",
       "  </tbody>\n",
       "</table>\n",
       "</div>"
      ],
      "text/plain": [
       "                                        MainBranch Hobbyist  \\\n",
       "Respondent                                                    \n",
       "1           I am a student who is learning to code      Yes   \n",
       "2           I am a student who is learning to code       No   \n",
       "\n",
       "                        OpenSourcer  \\\n",
       "Respondent                            \n",
       "1                             Never   \n",
       "2           Less than once per year   \n",
       "\n",
       "                                                   OpenSource  \\\n",
       "Respondent                                                      \n",
       "1           The quality of OSS and closed source software ...   \n",
       "2           The quality of OSS and closed source software ...   \n",
       "\n",
       "                                        Employment                 Country  \\\n",
       "Respondent                                                                   \n",
       "1           Not employed, and not looking for work          United Kingdom   \n",
       "2               Not employed, but looking for work  Bosnia and Herzegovina   \n",
       "\n",
       "                   Student                                            EdLevel  \\\n",
       "Respondent                                                                      \n",
       "1                       No                          Primary/elementary school   \n",
       "2           Yes, full-time  Secondary school (e.g. American high school, G...   \n",
       "\n",
       "           UndergradMajor                                           EduOther  \\\n",
       "Respondent                                                                     \n",
       "1                     NaN  Taught yourself a new language, framework, or ...   \n",
       "2                     NaN  Taken an online course in programming or softw...   \n",
       "\n",
       "           OrgSize                                            DevType  \\\n",
       "Respondent                                                              \n",
       "1              NaN                                                NaN   \n",
       "2              NaN  Developer, desktop or enterprise applications;...   \n",
       "\n",
       "           YearsCode Age1stCode YearsCodePro CareerSat JobSat MgrIdiot  \\\n",
       "Respondent                                                               \n",
       "1                  4         10          NaN       NaN    NaN      NaN   \n",
       "2                NaN         17          NaN       NaN    NaN      NaN   \n",
       "\n",
       "           MgrMoney MgrWant                          JobSeek  \\\n",
       "Respondent                                                     \n",
       "1               NaN     NaN                              NaN   \n",
       "2               NaN     NaN  I am actively looking for a job   \n",
       "\n",
       "                    LastHireDate LastInt FizzBuzz  \\\n",
       "Respondent                                          \n",
       "1                            NaN     NaN      NaN   \n",
       "2           I've never had a job     NaN      NaN   \n",
       "\n",
       "                                                   JobFactors  \\\n",
       "Respondent                                                      \n",
       "1                                                         NaN   \n",
       "2           Financial performance or funding status of the...   \n",
       "\n",
       "                                                 ResumeUpdate CurrencySymbol  \\\n",
       "Respondent                                                                     \n",
       "1                                                         NaN            NaN   \n",
       "2           Something else changed (education, award, medi...            NaN   \n",
       "\n",
       "           CurrencyDesc  CompTotal CompFreq  ConvertedComp  WorkWeekHrs  \\\n",
       "Respondent                                                                \n",
       "1                   NaN        NaN      NaN            NaN          NaN   \n",
       "2                   NaN        NaN      NaN            NaN          NaN   \n",
       "\n",
       "           WorkPlan WorkChallenge WorkRemote WorkLoc ImpSyn CodeRev  \\\n",
       "Respondent                                                            \n",
       "1               NaN           NaN        NaN     NaN    NaN     NaN   \n",
       "2               NaN           NaN        NaN     NaN    NaN     NaN   \n",
       "\n",
       "            CodeRevHrs UnitTests PurchaseHow PurchaseWhat  \\\n",
       "Respondent                                                  \n",
       "1                  NaN       NaN         NaN          NaN   \n",
       "2                  NaN       NaN         NaN          NaN   \n",
       "\n",
       "                         LanguageWorkedWith  \\\n",
       "Respondent                                    \n",
       "1           HTML/CSS;Java;JavaScript;Python   \n",
       "2                       C++;HTML/CSS;Python   \n",
       "\n",
       "                                     LanguageDesireNextYear  \\\n",
       "Respondent                                                    \n",
       "1           C;C++;C#;Go;HTML/CSS;Java;JavaScript;Python;SQL   \n",
       "2                               C++;HTML/CSS;JavaScript;SQL   \n",
       "\n",
       "           DatabaseWorkedWith DatabaseDesireNextYear PlatformWorkedWith  \\\n",
       "Respondent                                                                \n",
       "1                      SQLite                  MySQL      MacOS;Windows   \n",
       "2                         NaN                  MySQL            Windows   \n",
       "\n",
       "             PlatformDesireNextYear WebFrameWorkedWith WebFrameDesireNextYear  \\\n",
       "Respondent                                                                      \n",
       "1           Android;Arduino;Windows       Django;Flask           Flask;jQuery   \n",
       "2                           Windows             Django                 Django   \n",
       "\n",
       "           MiscTechWorkedWith MiscTechDesireNextYear  \\\n",
       "Respondent                                             \n",
       "1                     Node.js                Node.js   \n",
       "2                         NaN                    NaN   \n",
       "\n",
       "                            DevEnviron    OpSys               Containers  \\\n",
       "Respondent                                                                 \n",
       "1           IntelliJ;Notepad++;PyCharm  Windows  I do not use containers   \n",
       "2                         Atom;PyCharm  Windows  I do not use containers   \n",
       "\n",
       "           BlockchainOrg                                       BlockchainIs  \\\n",
       "Respondent                                                                    \n",
       "1                    NaN                                                NaN   \n",
       "2                    NaN  Useful across many domains and could change ma...   \n",
       "\n",
       "           BetterLife                                  ITperson OffOn  \\\n",
       "Respondent                                                              \n",
       "1                 Yes  Fortunately, someone else has that title   Yes   \n",
       "2                 Yes                                       Yes   Yes   \n",
       "\n",
       "           SocialMedia Extraversion ScreenName SOVisit1st  \\\n",
       "Respondent                                                  \n",
       "1              Twitter       Online   Username       2017   \n",
       "2            Instagram       Online   Username       2017   \n",
       "\n",
       "                                SOVisitFreq  \\\n",
       "Respondent                                    \n",
       "1           A few times per month or weekly   \n",
       "2                     Daily or almost daily   \n",
       "\n",
       "                                                    SOVisitTo  \\\n",
       "Respondent                                                      \n",
       "1           Find answers to specific questions;Learn how t...   \n",
       "2           Find answers to specific questions;Learn how t...   \n",
       "\n",
       "                  SOFindAnswer                     SOTimeSaved  SOHowMuchTime  \\\n",
       "Respondent                                                                      \n",
       "1           3-5 times per week  Stack Overflow was much faster  31-60 minutes   \n",
       "2           3-5 times per week  Stack Overflow was much faster  11-30 minutes   \n",
       "\n",
       "           SOAccount                       SOPartFreq  \\\n",
       "Respondent                                              \n",
       "1                 No                              NaN   \n",
       "2                Yes  A few times per month or weekly   \n",
       "\n",
       "                                                       SOJobs  \\\n",
       "Respondent                                                      \n",
       "1           No, I didn't know that Stack Overflow had a jo...   \n",
       "2           No, I knew that Stack Overflow had a job board...   \n",
       "\n",
       "                                       EntTeams         SOComm  \\\n",
       "Respondent                                                       \n",
       "1           No, and I don't know what those are        Neutral   \n",
       "2           No, and I don't know what those are  Yes, somewhat   \n",
       "\n",
       "                                      WelcomeChange  \\\n",
       "Respondent                                            \n",
       "1           Just as welcome now as I felt last year   \n",
       "2           Just as welcome now as I felt last year   \n",
       "\n",
       "                                                 SONewContent   Age Gender  \\\n",
       "Respondent                                                                   \n",
       "1           Tech articles written by other developers;Indu...  14.0    Man   \n",
       "2           Tech articles written by other developers;Indu...  19.0    Man   \n",
       "\n",
       "           Trans                Sexuality Ethnicity Dependents  \\\n",
       "Respondent                                                       \n",
       "1             No  Straight / Heterosexual       NaN         No   \n",
       "2             No  Straight / Heterosexual       NaN         No   \n",
       "\n",
       "                     SurveyLength                  SurveyEase  \n",
       "Respondent                                                     \n",
       "1           Appropriate in length  Neither easy nor difficult  \n",
       "2           Appropriate in length  Neither easy nor difficult  "
      ]
     },
     "metadata": {},
     "output_type": "display_data"
    },
    {
     "data": {
      "text/plain": [
       "Respondent\n",
       "1    Yes\n",
       "2     No\n",
       "3    Yes\n",
       "Name: Hobbyist, dtype: object"
      ]
     },
     "metadata": {},
     "output_type": "display_data"
    }
   ],
   "source": [
    "display(df1.loc[0])\n",
    "display(df1.iloc[56:57,0:4])\n",
    "display(df1.loc[[1,27],['gender', 'profession']])\n",
    "display(df2.loc[[1,2]])\n",
    "display(df2.loc[1:3,'Hobbyist'])"
   ]
  },
  {
   "cell_type": "code",
   "execution_count": 6,
   "metadata": {},
   "outputs": [
    {
     "data": {
      "text/html": [
       "<div>\n",
       "<style scoped>\n",
       "    .dataframe tbody tr th:only-of-type {\n",
       "        vertical-align: middle;\n",
       "    }\n",
       "\n",
       "    .dataframe tbody tr th {\n",
       "        vertical-align: top;\n",
       "    }\n",
       "\n",
       "    .dataframe thead th {\n",
       "        text-align: right;\n",
       "    }\n",
       "</style>\n",
       "<table border=\"1\" class=\"dataframe\">\n",
       "  <thead>\n",
       "    <tr style=\"text-align: right;\">\n",
       "      <th></th>\n",
       "      <th>timestamp</th>\n",
       "      <th>gender</th>\n",
       "      <th>age</th>\n",
       "      <th>zodiac</th>\n",
       "      <th>profession</th>\n",
       "      <th>junior_salary</th>\n",
       "      <th>senior_salary</th>\n",
       "    </tr>\n",
       "  </thead>\n",
       "  <tbody>\n",
       "    <tr>\n",
       "      <th>0</th>\n",
       "      <td>31/03/2020 17:10:01</td>\n",
       "      <td>Mujer</td>\n",
       "      <td>27</td>\n",
       "      <td>Tauro</td>\n",
       "      <td>Programadora</td>\n",
       "      <td>40000</td>\n",
       "      <td>80000</td>\n",
       "    </tr>\n",
       "    <tr>\n",
       "      <th>1</th>\n",
       "      <td>12/05/2020 15:19:14</td>\n",
       "      <td>Mujer</td>\n",
       "      <td>40</td>\n",
       "      <td>Acuario</td>\n",
       "      <td>Docente investigadora</td>\n",
       "      <td>50000</td>\n",
       "      <td>90000</td>\n",
       "    </tr>\n",
       "  </tbody>\n",
       "</table>\n",
       "</div>"
      ],
      "text/plain": [
       "             timestamp gender  age   zodiac             profession  \\\n",
       "0  31/03/2020 17:10:01  Mujer   27    Tauro           Programadora   \n",
       "1  12/05/2020 15:19:14  Mujer   40  Acuario  Docente investigadora   \n",
       "\n",
       "   junior_salary  senior_salary  \n",
       "0          40000          80000  \n",
       "1          50000          90000  "
      ]
     },
     "metadata": {},
     "output_type": "display_data"
    },
    {
     "data": {
      "text/html": [
       "<div>\n",
       "<style scoped>\n",
       "    .dataframe tbody tr th:only-of-type {\n",
       "        vertical-align: middle;\n",
       "    }\n",
       "\n",
       "    .dataframe tbody tr th {\n",
       "        vertical-align: top;\n",
       "    }\n",
       "\n",
       "    .dataframe thead th {\n",
       "        text-align: right;\n",
       "    }\n",
       "</style>\n",
       "<table border=\"1\" class=\"dataframe\">\n",
       "  <thead>\n",
       "    <tr style=\"text-align: right;\">\n",
       "      <th></th>\n",
       "      <th>gender</th>\n",
       "      <th>age</th>\n",
       "      <th>zodiac</th>\n",
       "      <th>profession</th>\n",
       "      <th>junior_salary</th>\n",
       "      <th>senior_salary</th>\n",
       "    </tr>\n",
       "    <tr>\n",
       "      <th>timestamp</th>\n",
       "      <th></th>\n",
       "      <th></th>\n",
       "      <th></th>\n",
       "      <th></th>\n",
       "      <th></th>\n",
       "      <th></th>\n",
       "    </tr>\n",
       "  </thead>\n",
       "  <tbody>\n",
       "    <tr>\n",
       "      <th>31/03/2020 17:10:01</th>\n",
       "      <td>Mujer</td>\n",
       "      <td>27</td>\n",
       "      <td>Tauro</td>\n",
       "      <td>Programadora</td>\n",
       "      <td>40000</td>\n",
       "      <td>80000</td>\n",
       "    </tr>\n",
       "    <tr>\n",
       "      <th>12/05/2020 15:19:14</th>\n",
       "      <td>Mujer</td>\n",
       "      <td>40</td>\n",
       "      <td>Acuario</td>\n",
       "      <td>Docente investigadora</td>\n",
       "      <td>50000</td>\n",
       "      <td>90000</td>\n",
       "    </tr>\n",
       "  </tbody>\n",
       "</table>\n",
       "</div>"
      ],
      "text/plain": [
       "                    gender  age   zodiac             profession  \\\n",
       "timestamp                                                         \n",
       "31/03/2020 17:10:01  Mujer   27    Tauro           Programadora   \n",
       "12/05/2020 15:19:14  Mujer   40  Acuario  Docente investigadora   \n",
       "\n",
       "                     junior_salary  senior_salary  \n",
       "timestamp                                          \n",
       "31/03/2020 17:10:01          40000          80000  \n",
       "12/05/2020 15:19:14          50000          90000  "
      ]
     },
     "metadata": {},
     "output_type": "display_data"
    },
    {
     "data": {
      "text/html": [
       "<div>\n",
       "<style scoped>\n",
       "    .dataframe tbody tr th:only-of-type {\n",
       "        vertical-align: middle;\n",
       "    }\n",
       "\n",
       "    .dataframe tbody tr th {\n",
       "        vertical-align: top;\n",
       "    }\n",
       "\n",
       "    .dataframe thead th {\n",
       "        text-align: right;\n",
       "    }\n",
       "</style>\n",
       "<table border=\"1\" class=\"dataframe\">\n",
       "  <thead>\n",
       "    <tr style=\"text-align: right;\">\n",
       "      <th></th>\n",
       "      <th>timestamp</th>\n",
       "      <th>gender</th>\n",
       "      <th>age</th>\n",
       "      <th>zodiac</th>\n",
       "      <th>profession</th>\n",
       "      <th>junior_salary</th>\n",
       "      <th>senior_salary</th>\n",
       "    </tr>\n",
       "  </thead>\n",
       "  <tbody>\n",
       "    <tr>\n",
       "      <th>0</th>\n",
       "      <td>31/03/2020 17:10:01</td>\n",
       "      <td>Mujer</td>\n",
       "      <td>27</td>\n",
       "      <td>Tauro</td>\n",
       "      <td>Programadora</td>\n",
       "      <td>40000</td>\n",
       "      <td>80000</td>\n",
       "    </tr>\n",
       "    <tr>\n",
       "      <th>1</th>\n",
       "      <td>12/05/2020 15:19:14</td>\n",
       "      <td>Mujer</td>\n",
       "      <td>40</td>\n",
       "      <td>Acuario</td>\n",
       "      <td>Docente investigadora</td>\n",
       "      <td>50000</td>\n",
       "      <td>90000</td>\n",
       "    </tr>\n",
       "  </tbody>\n",
       "</table>\n",
       "</div>"
      ],
      "text/plain": [
       "             timestamp gender  age   zodiac             profession  \\\n",
       "0  31/03/2020 17:10:01  Mujer   27    Tauro           Programadora   \n",
       "1  12/05/2020 15:19:14  Mujer   40  Acuario  Docente investigadora   \n",
       "\n",
       "   junior_salary  senior_salary  \n",
       "0          40000          80000  \n",
       "1          50000          90000  "
      ]
     },
     "metadata": {},
     "output_type": "display_data"
    },
    {
     "data": {
      "text/plain": [
       "None"
      ]
     },
     "metadata": {},
     "output_type": "display_data"
    },
    {
     "data": {
      "text/html": [
       "<div>\n",
       "<style scoped>\n",
       "    .dataframe tbody tr th:only-of-type {\n",
       "        vertical-align: middle;\n",
       "    }\n",
       "\n",
       "    .dataframe tbody tr th {\n",
       "        vertical-align: top;\n",
       "    }\n",
       "\n",
       "    .dataframe thead th {\n",
       "        text-align: right;\n",
       "    }\n",
       "</style>\n",
       "<table border=\"1\" class=\"dataframe\">\n",
       "  <thead>\n",
       "    <tr style=\"text-align: right;\">\n",
       "      <th></th>\n",
       "      <th>gender</th>\n",
       "      <th>age</th>\n",
       "      <th>zodiac</th>\n",
       "      <th>profession</th>\n",
       "      <th>junior_salary</th>\n",
       "      <th>senior_salary</th>\n",
       "    </tr>\n",
       "    <tr>\n",
       "      <th>timestamp</th>\n",
       "      <th></th>\n",
       "      <th></th>\n",
       "      <th></th>\n",
       "      <th></th>\n",
       "      <th></th>\n",
       "      <th></th>\n",
       "    </tr>\n",
       "  </thead>\n",
       "  <tbody>\n",
       "    <tr>\n",
       "      <th>31/03/2020 17:10:01</th>\n",
       "      <td>Mujer</td>\n",
       "      <td>27</td>\n",
       "      <td>Tauro</td>\n",
       "      <td>Programadora</td>\n",
       "      <td>40000</td>\n",
       "      <td>80000</td>\n",
       "    </tr>\n",
       "    <tr>\n",
       "      <th>12/05/2020 15:19:14</th>\n",
       "      <td>Mujer</td>\n",
       "      <td>40</td>\n",
       "      <td>Acuario</td>\n",
       "      <td>Docente investigadora</td>\n",
       "      <td>50000</td>\n",
       "      <td>90000</td>\n",
       "    </tr>\n",
       "  </tbody>\n",
       "</table>\n",
       "</div>"
      ],
      "text/plain": [
       "                    gender  age   zodiac             profession  \\\n",
       "timestamp                                                         \n",
       "31/03/2020 17:10:01  Mujer   27    Tauro           Programadora   \n",
       "12/05/2020 15:19:14  Mujer   40  Acuario  Docente investigadora   \n",
       "\n",
       "                     junior_salary  senior_salary  \n",
       "timestamp                                          \n",
       "31/03/2020 17:10:01          40000          80000  \n",
       "12/05/2020 15:19:14          50000          90000  "
      ]
     },
     "metadata": {},
     "output_type": "display_data"
    },
    {
     "data": {
      "text/plain": [
       "None"
      ]
     },
     "metadata": {},
     "output_type": "display_data"
    },
    {
     "data": {
      "text/html": [
       "<div>\n",
       "<style scoped>\n",
       "    .dataframe tbody tr th:only-of-type {\n",
       "        vertical-align: middle;\n",
       "    }\n",
       "\n",
       "    .dataframe tbody tr th {\n",
       "        vertical-align: top;\n",
       "    }\n",
       "\n",
       "    .dataframe thead th {\n",
       "        text-align: right;\n",
       "    }\n",
       "</style>\n",
       "<table border=\"1\" class=\"dataframe\">\n",
       "  <thead>\n",
       "    <tr style=\"text-align: right;\">\n",
       "      <th></th>\n",
       "      <th>timestamp</th>\n",
       "      <th>gender</th>\n",
       "      <th>age</th>\n",
       "      <th>zodiac</th>\n",
       "      <th>profession</th>\n",
       "      <th>junior_salary</th>\n",
       "      <th>senior_salary</th>\n",
       "    </tr>\n",
       "  </thead>\n",
       "  <tbody>\n",
       "    <tr>\n",
       "      <th>0</th>\n",
       "      <td>31/03/2020 17:10:01</td>\n",
       "      <td>Mujer</td>\n",
       "      <td>27</td>\n",
       "      <td>Tauro</td>\n",
       "      <td>Programadora</td>\n",
       "      <td>40000</td>\n",
       "      <td>80000</td>\n",
       "    </tr>\n",
       "    <tr>\n",
       "      <th>1</th>\n",
       "      <td>12/05/2020 15:19:14</td>\n",
       "      <td>Mujer</td>\n",
       "      <td>40</td>\n",
       "      <td>Acuario</td>\n",
       "      <td>Docente investigadora</td>\n",
       "      <td>50000</td>\n",
       "      <td>90000</td>\n",
       "    </tr>\n",
       "  </tbody>\n",
       "</table>\n",
       "</div>"
      ],
      "text/plain": [
       "             timestamp gender  age   zodiac             profession  \\\n",
       "0  31/03/2020 17:10:01  Mujer   27    Tauro           Programadora   \n",
       "1  12/05/2020 15:19:14  Mujer   40  Acuario  Docente investigadora   \n",
       "\n",
       "   junior_salary  senior_salary  \n",
       "0          40000          80000  \n",
       "1          50000          90000  "
      ]
     },
     "metadata": {},
     "output_type": "display_data"
    }
   ],
   "source": [
    "df1 = pd.read_csv('data/Dataset.csv')\n",
    "df1.columns = ['timestamp', 'gender', 'age', 'zodiac', 'profession', 'junior_salary', 'senior_salary']\n",
    "display(df1.head(2))\n",
    "display(df1.set_index('timestamp').head(2)) # df1.set_index('timestamp', inplace=True)\n",
    "display(df1.sort_index().head(2)) # df1.sort_index(inplace=True)\n",
    "display(df1.set_index('timestamp', inplace=True)) # this ACTUALLY defines the new index\n",
    "display(df1.head(2))\n",
    "display(df1.reset_index(inplace=True)) # df1.reset_index(inplace=True)\n",
    "display(df1.head(2))"
   ]
  },
  {
   "cell_type": "markdown",
   "metadata": {},
   "source": [
    "# Probability and Graphs"
   ]
  },
  {
   "cell_type": "markdown",
   "metadata": {},
   "source": [
    "## Probability calculation"
   ]
  },
  {
   "cell_type": "code",
   "execution_count": 7,
   "metadata": {},
   "outputs": [
    {
     "data": {
      "text/plain": [
       "array(['Mujer', 'Hombre', 'Prefiero no decirlo', 'Otro'], dtype=object)"
      ]
     },
     "metadata": {},
     "output_type": "display_data"
    },
    {
     "name": "stdout",
     "output_type": "stream",
     "text": [
      "Female probability:  0.30864197530864196 \n",
      "Male Probability 0.6172839506172839\n"
     ]
    }
   ],
   "source": [
    "display(df1.gender.unique())\n",
    "p_hombre = len(df1[df1.gender == 'Hombre']) / len(df1)\n",
    "p_mujer = len(df1[df1.gender == 'Mujer']) / len(df1)\n",
    "print('Female probability: ', p_mujer, '\\nMale Probability', p_hombre)"
   ]
  },
  {
   "cell_type": "markdown",
   "metadata": {},
   "source": [
    "## Count table"
   ]
  },
  {
   "cell_type": "code",
   "execution_count": 8,
   "metadata": {},
   "outputs": [
    {
     "data": {
      "text/plain": [
       "Géminis        21\n",
       "Libra          18\n",
       "Picis          18\n",
       "Aries          16\n",
       "Escorpio       14\n",
       "Leo            13\n",
       "Sagitario      13\n",
       "Capricornio    12\n",
       "Virgo          10\n",
       "Acuario         9\n",
       "Cáncer          9\n",
       "Tauro           8\n",
       "Name: zodiac, dtype: int64"
      ]
     },
     "metadata": {},
     "output_type": "display_data"
    }
   ],
   "source": [
    "display(df1['zodiac'].value_counts())"
   ]
  },
  {
   "cell_type": "markdown",
   "metadata": {},
   "source": [
    "## Count graph"
   ]
  },
  {
   "cell_type": "code",
   "execution_count": 9,
   "metadata": {},
   "outputs": [
    {
     "data": {
      "text/plain": [
       "(array([ 0,  1,  2,  3,  4,  5,  6,  7,  8,  9, 10, 11]),\n",
       " <a list of 12 Text major ticklabel objects>)"
      ]
     },
     "execution_count": 9,
     "metadata": {},
     "output_type": "execute_result"
    },
    {
     "data": {
      "image/png": "[encoded data removed]",
      "text/plain": [
       "<Figure size 432x288 with 1 Axes>"
      ]
     },
     "metadata": {
      "needs_background": "light"
     },
     "output_type": "display_data"
    }
   ],
   "source": [
    "sb.countplot(df1.zodiac)\n",
    "plt.xticks(rotation=90)"
   ]
  },
  {
   "cell_type": "markdown",
   "metadata": {},
   "source": [
    "## Probability distribution graph"
   ]
  },
  {
   "cell_type": "code",
   "execution_count": 10,
   "metadata": {},
   "outputs": [
    {
     "data": {
      "text/plain": [
       "(array([ 0,  1,  2,  3,  4,  5,  6,  7,  8,  9, 10, 11]),\n",
       " <a list of 12 Text major ticklabel objects>)"
      ]
     },
     "execution_count": 10,
     "metadata": {},
     "output_type": "execute_result"
    },
    {
     "data": {
      "image/png": "[encoded data removed]",
      "text/plain": [
       "<Figure size 432x288 with 1 Axes>"
      ]
     },
     "metadata": {
      "needs_background": "light"
     },
     "output_type": "display_data"
    }
   ],
   "source": [
    "data = df1['zodiac'].value_counts(normalize=True).reset_index()\n",
    "plot = sb.barplot(data=data, x='index', y='zodiac')\n",
    "plot.set(xlabel='Zodiac', ylabel='Probability')\n",
    "plt.xticks(rotation=90)"
   ]
  },
  {
   "cell_type": "markdown",
   "metadata": {},
   "source": [
    "## Histogram"
   ]
  },
  {
   "cell_type": "code",
   "execution_count": 11,
   "metadata": {},
   "outputs": [
    {
     "data": {
      "text/plain": [
       "[Text(0, 0.5, 'Probability'), Text(0.5, 0, 'Age')]"
      ]
     },
     "execution_count": 11,
     "metadata": {},
     "output_type": "execute_result"
    },
    {
     "data": {
      "image/png": "[encoded data removed]",
      "text/plain": [
       "<Figure size 1080x432 with 1 Axes>"
      ]
     },
     "metadata": {
      "needs_background": "light"
     },
     "output_type": "display_data"
    }
   ],
   "source": [
    "data = df1.age.value_counts(normalize=True)\n",
    "plt.figure(figsize=(15, 6))\n",
    "plot = sb.lineplot(x=data.index, y=data.values)\n",
    "plot.set(xlabel='Age', ylabel='Probability')"
   ]
  },
  {
   "cell_type": "markdown",
   "metadata": {},
   "source": [
    "## Density histogram graph"
   ]
  },
  {
   "cell_type": "code",
   "execution_count": 12,
   "metadata": {},
   "outputs": [
    {
     "data": {
      "text/plain": [
       "[Text(0, 0.5, 'Probability'), Text(0.5, 0, 'Junior salary')]"
      ]
     },
     "execution_count": 12,
     "metadata": {},
     "output_type": "execute_result"
    },
    {
     "data": {
      "image/png": "[encoded data removed]",
      "text/plain": [
       "<Figure size 1080x432 with 1 Axes>"
      ]
     },
     "metadata": {
      "needs_background": "light"
     },
     "output_type": "display_data"
    }
   ],
   "source": [
    "plt.figure(figsize=(15, 6))\n",
    "plot = sb.distplot(df1.junior_salary, bins=8, kde=True, norm_hist=True) \n",
    "plot.set(xlabel='Junior salary', ylabel='Probability')"
   ]
  },
  {
   "cell_type": "markdown",
   "metadata": {},
   "source": [
    "## Probability density graph (with hist and manually)"
   ]
  },
  {
   "cell_type": "code",
   "execution_count": 13,
   "metadata": {},
   "outputs": [
    {
     "data": {
      "text/plain": [
       "[Text(0, 0.5, 'Cummulative Probability'), Text(0.5, 0, 'Age')]"
      ]
     },
     "execution_count": 13,
     "metadata": {},
     "output_type": "execute_result"
    },
    {
     "data": {
      "image/png": "[encoded data removed]",
      "text/plain": [
       "<Figure size 1080x432 with 1 Axes>"
      ]
     },
     "metadata": {
      "needs_background": "light"
     },
     "output_type": "display_data"
    }
   ],
   "source": [
    "plt.figure(figsize=(15, 6))\n",
    "plot = df1.age.hist(cumulative=True, density=1)\n",
    "plot.set(xlabel='Age', ylabel='Cummulative Probability')"
   ]
  },
  {
   "cell_type": "code",
   "execution_count": 14,
   "metadata": {},
   "outputs": [
    {
     "data": {
      "text/plain": [
       "[Text(0, 0.5, 'Cummulative Probability'), Text(0.5, 0, 'Age')]"
      ]
     },
     "execution_count": 14,
     "metadata": {},
     "output_type": "execute_result"
    },
    {
     "data": {
      "image/png": "[encoded data removed]",
      "text/plain": [
       "<Figure size 1080x432 with 1 Axes>"
      ]
     },
     "metadata": {
      "needs_background": "light"
     },
     "output_type": "display_data"
    }
   ],
   "source": [
    "data = df1.age.value_counts(normalize=True).sort_index()\n",
    "\n",
    "acum = 0\n",
    "for i in range(len(data)):\n",
    "    acum += data.values[i]\n",
    "    data.values[i] = acum  \n",
    "\n",
    "plt.figure(figsize=(15, 6))\n",
    "plot = sb.barplot(x=data.index, y=data.values)\n",
    "plot.set(xlabel='Age', ylabel='Cummulative Probability')"
   ]
  },
  {
   "cell_type": "markdown",
   "metadata": {},
   "source": [
    "## Outliers removal "
   ]
  },
  {
   "cell_type": "code",
   "execution_count": 15,
   "metadata": {},
   "outputs": [
    {
     "name": "stdout",
     "output_type": "stream",
     "text": [
      "Junior outliers removed 3\n",
      "Senior outliers removed 2\n"
     ]
    },
    {
     "data": {
      "text/plain": [
       "[Text(0, 0.5, 'Probability'), Text(0.5, 0, 'Salaries')]"
      ]
     },
     "execution_count": 15,
     "metadata": {},
     "output_type": "execute_result"
    },
    {
     "data": {
      "image/png": "[encoded data removed]",
      "text/plain": [
       "<Figure size 720x432 with 1 Axes>"
      ]
     },
     "metadata": {
      "needs_background": "light"
     },
     "output_type": "display_data"
    }
   ],
   "source": [
    "def clean_outliers(dataset, column_name):\n",
    "    \"\"\"Returns dataset removing the outlier rows from column @column_name.\"\"\"\n",
    "    interesting_col = dataset[column_name]\n",
    "    # next line creates a boolean mask SERIES according to condition evaluated\n",
    "    mask_salarios_outlier = (numpy.abs(interesting_col - interesting_col.mean()) <= (3 * interesting_col.std()))\n",
    "    # next line returns a new dataset where ROWS with False have been removed\n",
    "    return dataset[mask_salarios_outlier] \n",
    "\n",
    "junior_data = clean_outliers(df1, \"junior_salary\").junior_salary\n",
    "senior_data = clean_outliers(df1, \"senior_salary\").senior_salary\n",
    "print(\"Junior outliers removed\", len(df1) - len(junior_data))\n",
    "print(\"Senior outliers removed\", len(df1) - len(senior_data))\n",
    "\n",
    "#display(junior_data.head(3))\n",
    "#display(df1.junior_salary.head(4))\n",
    "\n",
    "plt.figure(figsize=(10,6))\n",
    "plot = sb.distplot(junior_data, label='Junior', color='#F50')\n",
    "sb.distplot(senior_data, label='Senior', color='#05F')\n",
    "plot.set_title('Junior and Senior distribution without outliers')\n",
    "plot.legend()\n",
    "plot.set(xlabel='Salaries', ylabel='Probability')"
   ]
  },
  {
   "cell_type": "markdown",
   "metadata": {},
   "source": [
    "## Lineplots with data grouping and outliers removal"
   ]
  },
  {
   "cell_type": "code",
   "execution_count": 16,
   "metadata": {},
   "outputs": [],
   "source": [
    "def to_categorical(column, bin_size=5, min_cut=15, max_cut=50):\n",
    "    # All this calculates the intervals values\n",
    "    if min_cut is None:\n",
    "        min_cut = int(round(column.min())) - 1\n",
    "    value_max = int(numpy.ceil(column.max()))\n",
    "    max_cut = min(max_cut, value_max)\n",
    "    intervals = [(x, x + bin_size) for x in range(min_cut, max_cut, bin_size)]\n",
    "    if max_cut != value_max:\n",
    "        intervals.append((max_cut, value_max))\n",
    "    #print(intervals)\n",
    "    # This applies pandas.cut function of \"column\" in \"intervals\"\n",
    "    return pd.cut(column, pd.IntervalIndex.from_tuples(intervals))"
   ]
  },
  {
   "cell_type": "code",
   "execution_count": 17,
   "metadata": {},
   "outputs": [
    {
     "name": "stdout",
     "output_type": "stream",
     "text": [
      "df2 outliers removed 10876\n"
     ]
    },
    {
     "data": {
      "text/plain": [
       "(array([0, 1, 2, 3, 4, 5, 6, 7]), <a list of 8 Text major ticklabel objects>)"
      ]
     },
     "execution_count": 17,
     "metadata": {},
     "output_type": "execute_result"
    },
    {
     "data": {
      "image/png": "[encoded data removed]",
      "text/plain": [
       "<Figure size 432x288 with 1 Axes>"
      ]
     },
     "metadata": {
      "needs_background": "light"
     },
     "output_type": "display_data"
    }
   ],
   "source": [
    "df2_data = clean_outliers(df2, \"Age\").Age\n",
    "print(\"df2 outliers removed\", len(df2) - len(df2_data))\n",
    "\n",
    "sb.countplot(to_categorical(df2_data.dropna()), color='#FF0')\n",
    "plt.xticks(rotation=45)"
   ]
  },
  {
   "cell_type": "code",
   "execution_count": 18,
   "metadata": {},
   "outputs": [
    {
     "data": {
      "text/plain": [
       "(array([0, 1, 2, 3, 4, 5, 6, 7]), <a list of 8 Text major ticklabel objects>)"
      ]
     },
     "execution_count": 18,
     "metadata": {},
     "output_type": "execute_result"
    },
    {
     "data": {
      "image/png": "[encoded data removed]",
      "text/plain": [
       "<Figure size 720x576 with 1 Axes>"
      ]
     },
     "metadata": {
      "needs_background": "light"
     },
     "output_type": "display_data"
    }
   ],
   "source": [
    "plt.figure(figsize=(10,8))\n",
    "age_data = clean_outliers(df1, \"junior_salary\")\n",
    "age_data = age_data[~age_data.age.isnull()]\n",
    "age_data['age_segment'] = to_categorical(age_data.age)\n",
    "# I can choose the estimator I want (mean is default, can use median for exmpl)\n",
    "sb.pointplot(data=age_data,x='age_segment', y='junior_salary',hue='gender',\n",
    "             estimator=numpy.mean, dodge=True, ci=None, errwidth=1, capsize=0.2)\n",
    "plt.ylabel('Media de estimación')\n",
    "plt.xlabel('Edad')\n",
    "plt.title('Comparación entre las estimaciones \\n de sueldo para programadores junior')\n",
    "plt.xticks(rotation=45)\n",
    "#plt.legend(bbox_to_anchor=(1.05, 1), loc=2, borderaxespad=0.)"
   ]
  },
  {
   "cell_type": "markdown",
   "metadata": {},
   "source": [
    "## Box Plots"
   ]
  },
  {
   "cell_type": "code",
   "execution_count": 19,
   "metadata": {},
   "outputs": [
    {
     "data": {
      "text/plain": [
       "(array([0, 1, 2, 3, 4, 5, 6, 7]), <a list of 8 Text major ticklabel objects>)"
      ]
     },
     "execution_count": 19,
     "metadata": {},
     "output_type": "execute_result"
    },
    {
     "data": {
      "image/png": "[encoded data removed]",
      "text/plain": [
       "<Figure size 720x432 with 1 Axes>"
      ]
     },
     "metadata": {
      "needs_background": "light"
     },
     "output_type": "display_data"
    }
   ],
   "source": [
    "plt.figure(figsize=(10,6))\n",
    "sb.boxplot(data=age_data,x='age_segment', y='junior_salary')\n",
    "plt.ylabel('Distribución de estimación')\n",
    "plt.xlabel('Edad')\n",
    "plt.title('Comparación entre las estimaciones \\n de sueldo para programadores junior')\n",
    "plt.xticks(rotation=45)"
   ]
  },
  {
   "cell_type": "markdown",
   "metadata": {},
   "source": [
    "## Scatterplot"
   ]
  },
  {
   "cell_type": "code",
   "execution_count": 20,
   "metadata": {},
   "outputs": [
    {
     "data": {
      "text/plain": [
       "<matplotlib.axes._subplots.AxesSubplot at 0x7f417658fbe0>"
      ]
     },
     "execution_count": 20,
     "metadata": {},
     "output_type": "execute_result"
    },
    {
     "data": {
      "image/png": "[encoded data removed]",
      "text/plain": [
       "<Figure size 720x432 with 1 Axes>"
      ]
     },
     "metadata": {
      "needs_background": "light"
     },
     "output_type": "display_data"
    }
   ],
   "source": [
    "plt.figure(figsize=(10,6))\n",
    "sb.scatterplot(data=df1, x='age', y='junior_salary')"
   ]
  },
  {
   "cell_type": "code",
   "execution_count": 21,
   "metadata": {},
   "outputs": [
    {
     "data": {
      "text/plain": [
       "Text(0.5, 1.0, 'Estimaciones de sueldo para programadores junior vs edad')"
      ]
     },
     "execution_count": 21,
     "metadata": {},
     "output_type": "execute_result"
    },
    {
     "data": {
      "image/png": "[encoded data removed]",
      "text/plain": [
       "<Figure size 720x432 with 1 Axes>"
      ]
     },
     "metadata": {
      "needs_background": "light"
     },
     "output_type": "display_data"
    }
   ],
   "source": [
    "plt.figure(figsize=(10,6))\n",
    "sb.regplot(data=df1, x='age',\n",
    "                y='junior_salary')\n",
    "plt.ylabel('Estimación')\n",
    "plt.xlabel('Edad')\n",
    "plt.title('Estimaciones de sueldo para programadores junior vs edad')"
   ]
  },
  {
   "cell_type": "markdown",
   "metadata": {},
   "source": [
    "## Groupby\n",
    "\n",
    "It first groups in the specified column names, and then applies the function written at the end to all (numeric) data inside the groups (and displays it)"
   ]
  },
  {
   "cell_type": "code",
   "execution_count": 22,
   "metadata": {},
   "outputs": [
    {
     "data": {
      "text/html": [
       "<div>\n",
       "<style scoped>\n",
       "    .dataframe tbody tr th:only-of-type {\n",
       "        vertical-align: middle;\n",
       "    }\n",
       "\n",
       "    .dataframe tbody tr th {\n",
       "        vertical-align: top;\n",
       "    }\n",
       "\n",
       "    .dataframe thead th {\n",
       "        text-align: right;\n",
       "    }\n",
       "</style>\n",
       "<table border=\"1\" class=\"dataframe\">\n",
       "  <thead>\n",
       "    <tr style=\"text-align: right;\">\n",
       "      <th></th>\n",
       "      <th>Animal</th>\n",
       "      <th>Max Speed</th>\n",
       "      <th>Min Speed</th>\n",
       "      <th>Color</th>\n",
       "      <th>Age</th>\n",
       "      <th>Bool</th>\n",
       "    </tr>\n",
       "  </thead>\n",
       "  <tbody>\n",
       "    <tr>\n",
       "      <th>0</th>\n",
       "      <td>Falcon</td>\n",
       "      <td>100.0</td>\n",
       "      <td>10.0</td>\n",
       "      <td>Red</td>\n",
       "      <td>13</td>\n",
       "      <td>True</td>\n",
       "    </tr>\n",
       "    <tr>\n",
       "      <th>1</th>\n",
       "      <td>Parrot</td>\n",
       "      <td>300.0</td>\n",
       "      <td>30.0</td>\n",
       "      <td>Red</td>\n",
       "      <td>34</td>\n",
       "      <td>False</td>\n",
       "    </tr>\n",
       "    <tr>\n",
       "      <th>2</th>\n",
       "      <td>Parrot</td>\n",
       "      <td>24.0</td>\n",
       "      <td>2.0</td>\n",
       "      <td>Green</td>\n",
       "      <td>51</td>\n",
       "      <td>False</td>\n",
       "    </tr>\n",
       "    <tr>\n",
       "      <th>3</th>\n",
       "      <td>Falcon</td>\n",
       "      <td>26.0</td>\n",
       "      <td>2.0</td>\n",
       "      <td>Black</td>\n",
       "      <td>2</td>\n",
       "      <td>False</td>\n",
       "    </tr>\n",
       "  </tbody>\n",
       "</table>\n",
       "</div>"
      ],
      "text/plain": [
       "   Animal  Max Speed  Min Speed  Color  Age   Bool\n",
       "0  Falcon      100.0       10.0    Red   13   True\n",
       "1  Parrot      300.0       30.0    Red   34  False\n",
       "2  Parrot       24.0        2.0  Green   51  False\n",
       "3  Falcon       26.0        2.0  Black    2  False"
      ]
     },
     "metadata": {},
     "output_type": "display_data"
    },
    {
     "data": {
      "text/html": [
       "<div>\n",
       "<style scoped>\n",
       "    .dataframe tbody tr th:only-of-type {\n",
       "        vertical-align: middle;\n",
       "    }\n",
       "\n",
       "    .dataframe tbody tr th {\n",
       "        vertical-align: top;\n",
       "    }\n",
       "\n",
       "    .dataframe thead th {\n",
       "        text-align: right;\n",
       "    }\n",
       "</style>\n",
       "<table border=\"1\" class=\"dataframe\">\n",
       "  <thead>\n",
       "    <tr style=\"text-align: right;\">\n",
       "      <th></th>\n",
       "      <th>Max Speed</th>\n",
       "      <th>Min Speed</th>\n",
       "      <th>Age</th>\n",
       "      <th>Bool</th>\n",
       "    </tr>\n",
       "    <tr>\n",
       "      <th>Color</th>\n",
       "      <th></th>\n",
       "      <th></th>\n",
       "      <th></th>\n",
       "      <th></th>\n",
       "    </tr>\n",
       "  </thead>\n",
       "  <tbody>\n",
       "    <tr>\n",
       "      <th>Black</th>\n",
       "      <td>26.0</td>\n",
       "      <td>2.0</td>\n",
       "      <td>2.0</td>\n",
       "      <td>0.0</td>\n",
       "    </tr>\n",
       "    <tr>\n",
       "      <th>Green</th>\n",
       "      <td>24.0</td>\n",
       "      <td>2.0</td>\n",
       "      <td>51.0</td>\n",
       "      <td>0.0</td>\n",
       "    </tr>\n",
       "    <tr>\n",
       "      <th>Red</th>\n",
       "      <td>200.0</td>\n",
       "      <td>20.0</td>\n",
       "      <td>23.5</td>\n",
       "      <td>0.5</td>\n",
       "    </tr>\n",
       "  </tbody>\n",
       "</table>\n",
       "</div>"
      ],
      "text/plain": [
       "       Max Speed  Min Speed   Age  Bool\n",
       "Color                                  \n",
       "Black       26.0        2.0   2.0   0.0\n",
       "Green       24.0        2.0  51.0   0.0\n",
       "Red        200.0       20.0  23.5   0.5"
      ]
     },
     "metadata": {},
     "output_type": "display_data"
    },
    {
     "data": {
      "text/html": [
       "<div>\n",
       "<style scoped>\n",
       "    .dataframe tbody tr th:only-of-type {\n",
       "        vertical-align: middle;\n",
       "    }\n",
       "\n",
       "    .dataframe tbody tr th {\n",
       "        vertical-align: top;\n",
       "    }\n",
       "\n",
       "    .dataframe thead th {\n",
       "        text-align: right;\n",
       "    }\n",
       "</style>\n",
       "<table border=\"1\" class=\"dataframe\">\n",
       "  <thead>\n",
       "    <tr style=\"text-align: right;\">\n",
       "      <th></th>\n",
       "      <th></th>\n",
       "      <th>Max Speed</th>\n",
       "      <th>Min Speed</th>\n",
       "      <th>Age</th>\n",
       "      <th>Bool</th>\n",
       "    </tr>\n",
       "    <tr>\n",
       "      <th>Color</th>\n",
       "      <th>Animal</th>\n",
       "      <th></th>\n",
       "      <th></th>\n",
       "      <th></th>\n",
       "      <th></th>\n",
       "    </tr>\n",
       "  </thead>\n",
       "  <tbody>\n",
       "    <tr>\n",
       "      <th>Black</th>\n",
       "      <th>Falcon</th>\n",
       "      <td>26.0</td>\n",
       "      <td>2.0</td>\n",
       "      <td>2</td>\n",
       "      <td>False</td>\n",
       "    </tr>\n",
       "    <tr>\n",
       "      <th>Green</th>\n",
       "      <th>Parrot</th>\n",
       "      <td>24.0</td>\n",
       "      <td>2.0</td>\n",
       "      <td>51</td>\n",
       "      <td>False</td>\n",
       "    </tr>\n",
       "    <tr>\n",
       "      <th rowspan=\"2\" valign=\"top\">Red</th>\n",
       "      <th>Falcon</th>\n",
       "      <td>100.0</td>\n",
       "      <td>10.0</td>\n",
       "      <td>13</td>\n",
       "      <td>True</td>\n",
       "    </tr>\n",
       "    <tr>\n",
       "      <th>Parrot</th>\n",
       "      <td>300.0</td>\n",
       "      <td>30.0</td>\n",
       "      <td>34</td>\n",
       "      <td>False</td>\n",
       "    </tr>\n",
       "  </tbody>\n",
       "</table>\n",
       "</div>"
      ],
      "text/plain": [
       "              Max Speed  Min Speed  Age   Bool\n",
       "Color Animal                                  \n",
       "Black Falcon       26.0        2.0    2  False\n",
       "Green Parrot       24.0        2.0   51  False\n",
       "Red   Falcon      100.0       10.0   13   True\n",
       "      Parrot      300.0       30.0   34  False"
      ]
     },
     "metadata": {},
     "output_type": "display_data"
    },
    {
     "data": {
      "text/html": [
       "<div>\n",
       "<style scoped>\n",
       "    .dataframe tbody tr th:only-of-type {\n",
       "        vertical-align: middle;\n",
       "    }\n",
       "\n",
       "    .dataframe tbody tr th {\n",
       "        vertical-align: top;\n",
       "    }\n",
       "\n",
       "    .dataframe thead th {\n",
       "        text-align: right;\n",
       "    }\n",
       "</style>\n",
       "<table border=\"1\" class=\"dataframe\">\n",
       "  <thead>\n",
       "    <tr style=\"text-align: right;\">\n",
       "      <th></th>\n",
       "      <th></th>\n",
       "      <th></th>\n",
       "      <th>Max Speed</th>\n",
       "      <th>Min Speed</th>\n",
       "      <th>Age</th>\n",
       "    </tr>\n",
       "    <tr>\n",
       "      <th>Color</th>\n",
       "      <th>Animal</th>\n",
       "      <th>Bool</th>\n",
       "      <th></th>\n",
       "      <th></th>\n",
       "      <th></th>\n",
       "    </tr>\n",
       "  </thead>\n",
       "  <tbody>\n",
       "    <tr>\n",
       "      <th>Black</th>\n",
       "      <th>Falcon</th>\n",
       "      <th>False</th>\n",
       "      <td>26.0</td>\n",
       "      <td>2.0</td>\n",
       "      <td>2</td>\n",
       "    </tr>\n",
       "    <tr>\n",
       "      <th>Green</th>\n",
       "      <th>Parrot</th>\n",
       "      <th>False</th>\n",
       "      <td>24.0</td>\n",
       "      <td>2.0</td>\n",
       "      <td>51</td>\n",
       "    </tr>\n",
       "    <tr>\n",
       "      <th rowspan=\"2\" valign=\"top\">Red</th>\n",
       "      <th>Falcon</th>\n",
       "      <th>True</th>\n",
       "      <td>100.0</td>\n",
       "      <td>10.0</td>\n",
       "      <td>13</td>\n",
       "    </tr>\n",
       "    <tr>\n",
       "      <th>Parrot</th>\n",
       "      <th>False</th>\n",
       "      <td>300.0</td>\n",
       "      <td>30.0</td>\n",
       "      <td>34</td>\n",
       "    </tr>\n",
       "  </tbody>\n",
       "</table>\n",
       "</div>"
      ],
      "text/plain": [
       "                    Max Speed  Min Speed  Age\n",
       "Color Animal Bool                            \n",
       "Black Falcon False       26.0        2.0    2\n",
       "Green Parrot False       24.0        2.0   51\n",
       "Red   Falcon True       100.0       10.0   13\n",
       "      Parrot False      300.0       30.0   34"
      ]
     },
     "metadata": {},
     "output_type": "display_data"
    }
   ],
   "source": [
    "df = pd.DataFrame({'Animal': ['Falcon', 'Parrot',\n",
    "                              'Parrot', 'Falcon'],\n",
    "                   'Max Speed': [100., 300., 24., 26.],\n",
    "                   'Min Speed': [10., 30., 2., 2.],\n",
    "                   'Color': ['Red', 'Red', 'Green', 'Black'],\n",
    "                   'Age': [13, 34, 51, 2],\n",
    "                   'Bool': [True, False, False, False]})\n",
    "display(df)\n",
    "display(df.groupby(['Color']).mean())\n",
    "display(df.groupby(['Color', 'Animal']).mean())\n",
    "display(df.groupby(['Color', 'Animal', 'Bool']).mean())"
   ]
  },
  {
   "cell_type": "markdown",
   "metadata": {},
   "source": [
    "## Melt\n",
    "\n",
    "Seems similar to groupby, but instead of defining new indexes it assign them as values to new variables"
   ]
  },
  {
   "cell_type": "code",
   "execution_count": 23,
   "metadata": {},
   "outputs": [
    {
     "data": {
      "text/html": [
       "<div>\n",
       "<style scoped>\n",
       "    .dataframe tbody tr th:only-of-type {\n",
       "        vertical-align: middle;\n",
       "    }\n",
       "\n",
       "    .dataframe tbody tr th {\n",
       "        vertical-align: top;\n",
       "    }\n",
       "\n",
       "    .dataframe thead th {\n",
       "        text-align: right;\n",
       "    }\n",
       "</style>\n",
       "<table border=\"1\" class=\"dataframe\">\n",
       "  <thead>\n",
       "    <tr style=\"text-align: right;\">\n",
       "      <th></th>\n",
       "      <th>gender</th>\n",
       "      <th>junior_salary</th>\n",
       "      <th>senior_salary</th>\n",
       "    </tr>\n",
       "  </thead>\n",
       "  <tbody>\n",
       "    <tr>\n",
       "      <th>0</th>\n",
       "      <td>Hombre</td>\n",
       "      <td>50821.250</td>\n",
       "      <td>96882.2</td>\n",
       "    </tr>\n",
       "    <tr>\n",
       "      <th>1</th>\n",
       "      <td>Mujer</td>\n",
       "      <td>52361.400</td>\n",
       "      <td>83201.8</td>\n",
       "    </tr>\n",
       "    <tr>\n",
       "      <th>2</th>\n",
       "      <td>Otro</td>\n",
       "      <td>50750.000</td>\n",
       "      <td>98750.0</td>\n",
       "    </tr>\n",
       "    <tr>\n",
       "      <th>3</th>\n",
       "      <td>Prefiero no decirlo</td>\n",
       "      <td>38750.375</td>\n",
       "      <td>71250.5</td>\n",
       "    </tr>\n",
       "  </tbody>\n",
       "</table>\n",
       "</div>"
      ],
      "text/plain": [
       "                gender  junior_salary  senior_salary\n",
       "0               Hombre      50821.250        96882.2\n",
       "1                Mujer      52361.400        83201.8\n",
       "2                 Otro      50750.000        98750.0\n",
       "3  Prefiero no decirlo      38750.375        71250.5"
      ]
     },
     "metadata": {},
     "output_type": "display_data"
    },
    {
     "data": {
      "text/html": [
       "<div>\n",
       "<style scoped>\n",
       "    .dataframe tbody tr th:only-of-type {\n",
       "        vertical-align: middle;\n",
       "    }\n",
       "\n",
       "    .dataframe tbody tr th {\n",
       "        vertical-align: top;\n",
       "    }\n",
       "\n",
       "    .dataframe thead th {\n",
       "        text-align: right;\n",
       "    }\n",
       "</style>\n",
       "<table border=\"1\" class=\"dataframe\">\n",
       "  <thead>\n",
       "    <tr style=\"text-align: right;\">\n",
       "      <th></th>\n",
       "      <th>gender</th>\n",
       "      <th>variable</th>\n",
       "      <th>value</th>\n",
       "    </tr>\n",
       "  </thead>\n",
       "  <tbody>\n",
       "    <tr>\n",
       "      <th>0</th>\n",
       "      <td>Hombre</td>\n",
       "      <td>junior_salary</td>\n",
       "      <td>50821.250</td>\n",
       "    </tr>\n",
       "    <tr>\n",
       "      <th>1</th>\n",
       "      <td>Mujer</td>\n",
       "      <td>junior_salary</td>\n",
       "      <td>52361.400</td>\n",
       "    </tr>\n",
       "    <tr>\n",
       "      <th>2</th>\n",
       "      <td>Otro</td>\n",
       "      <td>junior_salary</td>\n",
       "      <td>50750.000</td>\n",
       "    </tr>\n",
       "    <tr>\n",
       "      <th>3</th>\n",
       "      <td>Prefiero no decirlo</td>\n",
       "      <td>junior_salary</td>\n",
       "      <td>38750.375</td>\n",
       "    </tr>\n",
       "    <tr>\n",
       "      <th>4</th>\n",
       "      <td>Hombre</td>\n",
       "      <td>senior_salary</td>\n",
       "      <td>96882.200</td>\n",
       "    </tr>\n",
       "    <tr>\n",
       "      <th>5</th>\n",
       "      <td>Mujer</td>\n",
       "      <td>senior_salary</td>\n",
       "      <td>83201.800</td>\n",
       "    </tr>\n",
       "    <tr>\n",
       "      <th>6</th>\n",
       "      <td>Otro</td>\n",
       "      <td>senior_salary</td>\n",
       "      <td>98750.000</td>\n",
       "    </tr>\n",
       "    <tr>\n",
       "      <th>7</th>\n",
       "      <td>Prefiero no decirlo</td>\n",
       "      <td>senior_salary</td>\n",
       "      <td>71250.500</td>\n",
       "    </tr>\n",
       "  </tbody>\n",
       "</table>\n",
       "</div>"
      ],
      "text/plain": [
       "                gender       variable      value\n",
       "0               Hombre  junior_salary  50821.250\n",
       "1                Mujer  junior_salary  52361.400\n",
       "2                 Otro  junior_salary  50750.000\n",
       "3  Prefiero no decirlo  junior_salary  38750.375\n",
       "4               Hombre  senior_salary  96882.200\n",
       "5                Mujer  senior_salary  83201.800\n",
       "6                 Otro  senior_salary  98750.000\n",
       "7  Prefiero no decirlo  senior_salary  71250.500"
      ]
     },
     "metadata": {},
     "output_type": "display_data"
    },
    {
     "data": {
      "text/plain": [
       "<matplotlib.legend.Legend at 0x7f4176763860>"
      ]
     },
     "execution_count": 23,
     "metadata": {},
     "output_type": "execute_result"
    },
    {
     "data": {
      "image/png": "[encoded data removed]",
      "text/plain": [
       "<Figure size 720x360 with 1 Axes>"
      ]
     },
     "metadata": {
      "needs_background": "light"
     },
     "output_type": "display_data"
    }
   ],
   "source": [
    "df = df1.groupby([\"gender\"]).mean()[['junior_salary', 'senior_salary']]\n",
    "df.reset_index(inplace=True)\n",
    "display(df)\n",
    "\n",
    "df = df.melt(id_vars='gender').rename(columns=str)\n",
    "display(df)\n",
    "\n",
    "plt.figure(figsize=(10, 5))\n",
    "sb.barplot(x='gender', y='value', hue='variable', data=df)\n",
    "\n",
    "plt.xticks(rotation=45, fontsize=12); plt.xlabel('Gender', fontsize=14)\n",
    "plt.yticks(rotation=45, fontsize=12); plt.ylabel('Mean salary', fontsize=14)\n",
    "plt.legend(bbox_to_anchor=(1.05, 1), loc=2, borderaxespad=0.1, fontsize=14)"
   ]
  },
  {
   "cell_type": "code",
   "execution_count": 24,
   "metadata": {},
   "outputs": [
    {
     "data": {
      "text/html": [
       "<div>\n",
       "<style scoped>\n",
       "    .dataframe tbody tr th:only-of-type {\n",
       "        vertical-align: middle;\n",
       "    }\n",
       "\n",
       "    .dataframe tbody tr th {\n",
       "        vertical-align: top;\n",
       "    }\n",
       "\n",
       "    .dataframe thead th {\n",
       "        text-align: right;\n",
       "    }\n",
       "</style>\n",
       "<table border=\"1\" class=\"dataframe\">\n",
       "  <thead>\n",
       "    <tr style=\"text-align: right;\">\n",
       "      <th></th>\n",
       "      <th></th>\n",
       "      <th>junior_salary</th>\n",
       "      <th>senior_salary</th>\n",
       "    </tr>\n",
       "    <tr>\n",
       "      <th>gender</th>\n",
       "      <th>zodiac</th>\n",
       "      <th></th>\n",
       "      <th></th>\n",
       "    </tr>\n",
       "  </thead>\n",
       "  <tbody>\n",
       "    <tr>\n",
       "      <th rowspan=\"3\" valign=\"top\">Hombre</th>\n",
       "      <th>Acuario</th>\n",
       "      <td>58750.0</td>\n",
       "      <td>81250.000000</td>\n",
       "    </tr>\n",
       "    <tr>\n",
       "      <th>Aries</th>\n",
       "      <td>46250.0</td>\n",
       "      <td>73125.000000</td>\n",
       "    </tr>\n",
       "    <tr>\n",
       "      <th>Capricornio</th>\n",
       "      <td>50000.0</td>\n",
       "      <td>80909.090909</td>\n",
       "    </tr>\n",
       "  </tbody>\n",
       "</table>\n",
       "</div>"
      ],
      "text/plain": [
       "                    junior_salary  senior_salary\n",
       "gender zodiac                                   \n",
       "Hombre Acuario            58750.0   81250.000000\n",
       "       Aries              46250.0   73125.000000\n",
       "       Capricornio        50000.0   80909.090909"
      ]
     },
     "metadata": {},
     "output_type": "display_data"
    },
    {
     "data": {
      "text/html": [
       "<div>\n",
       "<style scoped>\n",
       "    .dataframe tbody tr th:only-of-type {\n",
       "        vertical-align: middle;\n",
       "    }\n",
       "\n",
       "    .dataframe tbody tr th {\n",
       "        vertical-align: top;\n",
       "    }\n",
       "\n",
       "    .dataframe thead th {\n",
       "        text-align: right;\n",
       "    }\n",
       "</style>\n",
       "<table border=\"1\" class=\"dataframe\">\n",
       "  <thead>\n",
       "    <tr style=\"text-align: right;\">\n",
       "      <th></th>\n",
       "      <th>gender</th>\n",
       "      <th>zodiac</th>\n",
       "      <th>estimation_type</th>\n",
       "      <th>estimation</th>\n",
       "    </tr>\n",
       "  </thead>\n",
       "  <tbody>\n",
       "    <tr>\n",
       "      <th>0</th>\n",
       "      <td>Hombre</td>\n",
       "      <td>Acuario</td>\n",
       "      <td>junior_salary</td>\n",
       "      <td>58750.000000</td>\n",
       "    </tr>\n",
       "    <tr>\n",
       "      <th>1</th>\n",
       "      <td>Hombre</td>\n",
       "      <td>Aries</td>\n",
       "      <td>junior_salary</td>\n",
       "      <td>46250.000000</td>\n",
       "    </tr>\n",
       "    <tr>\n",
       "      <th>2</th>\n",
       "      <td>Hombre</td>\n",
       "      <td>Capricornio</td>\n",
       "      <td>junior_salary</td>\n",
       "      <td>50000.000000</td>\n",
       "    </tr>\n",
       "    <tr>\n",
       "      <th>3</th>\n",
       "      <td>Hombre</td>\n",
       "      <td>Cáncer</td>\n",
       "      <td>junior_salary</td>\n",
       "      <td>54400.000000</td>\n",
       "    </tr>\n",
       "    <tr>\n",
       "      <th>4</th>\n",
       "      <td>Hombre</td>\n",
       "      <td>Escorpio</td>\n",
       "      <td>junior_salary</td>\n",
       "      <td>53006.500000</td>\n",
       "    </tr>\n",
       "    <tr>\n",
       "      <th>...</th>\n",
       "      <td>...</td>\n",
       "      <td>...</td>\n",
       "      <td>...</td>\n",
       "      <td>...</td>\n",
       "    </tr>\n",
       "    <tr>\n",
       "      <th>61</th>\n",
       "      <td>Prefiero no decirlo</td>\n",
       "      <td>Cáncer</td>\n",
       "      <td>senior_salary</td>\n",
       "      <td>50000.000000</td>\n",
       "    </tr>\n",
       "    <tr>\n",
       "      <th>62</th>\n",
       "      <td>Prefiero no decirlo</td>\n",
       "      <td>Leo</td>\n",
       "      <td>senior_salary</td>\n",
       "      <td>80000.000000</td>\n",
       "    </tr>\n",
       "    <tr>\n",
       "      <th>63</th>\n",
       "      <td>Prefiero no decirlo</td>\n",
       "      <td>Libra</td>\n",
       "      <td>senior_salary</td>\n",
       "      <td>60001.333333</td>\n",
       "    </tr>\n",
       "    <tr>\n",
       "      <th>64</th>\n",
       "      <td>Prefiero no decirlo</td>\n",
       "      <td>Picis</td>\n",
       "      <td>senior_salary</td>\n",
       "      <td>100000.000000</td>\n",
       "    </tr>\n",
       "    <tr>\n",
       "      <th>65</th>\n",
       "      <td>Prefiero no decirlo</td>\n",
       "      <td>Virgo</td>\n",
       "      <td>senior_salary</td>\n",
       "      <td>40000.000000</td>\n",
       "    </tr>\n",
       "  </tbody>\n",
       "</table>\n",
       "<p>66 rows × 4 columns</p>\n",
       "</div>"
      ],
      "text/plain": [
       "                 gender       zodiac estimation_type     estimation\n",
       "0                Hombre      Acuario   junior_salary   58750.000000\n",
       "1                Hombre        Aries   junior_salary   46250.000000\n",
       "2                Hombre  Capricornio   junior_salary   50000.000000\n",
       "3                Hombre       Cáncer   junior_salary   54400.000000\n",
       "4                Hombre     Escorpio   junior_salary   53006.500000\n",
       "..                  ...          ...             ...            ...\n",
       "61  Prefiero no decirlo       Cáncer   senior_salary   50000.000000\n",
       "62  Prefiero no decirlo          Leo   senior_salary   80000.000000\n",
       "63  Prefiero no decirlo        Libra   senior_salary   60001.333333\n",
       "64  Prefiero no decirlo        Picis   senior_salary  100000.000000\n",
       "65  Prefiero no decirlo        Virgo   senior_salary   40000.000000\n",
       "\n",
       "[66 rows x 4 columns]"
      ]
     },
     "metadata": {},
     "output_type": "display_data"
    },
    {
     "data": {
      "text/plain": [
       "<matplotlib.legend.Legend at 0x7f41769e82b0>"
      ]
     },
     "execution_count": 24,
     "metadata": {},
     "output_type": "execute_result"
    },
    {
     "data": {
      "image/png": "[encoded data removed]",
      "text/plain": [
       "<Figure size 504x360 with 1 Axes>"
      ]
     },
     "metadata": {
      "needs_background": "light"
     },
     "output_type": "display_data"
    }
   ],
   "source": [
    "long_dataset = df1.groupby([\"gender\", \"zodiac\"]).mean()[['junior_salary', 'senior_salary']]\n",
    "display(long_dataset.head(3))\n",
    "\n",
    "long_dataset = pd.melt(long_dataset.reset_index(), id_vars=['gender', 'zodiac'],\n",
    "            value_vars=['junior_salary', 'senior_salary'],\n",
    "            var_name='estimation_type', value_name='estimation')\n",
    "display(long_dataset)\n",
    "\n",
    "plt.figure(figsize=(7, 5))\n",
    "sb.barplot(x='gender', y='estimation', hue='estimation_type', data=long_dataset)\n",
    "\n",
    "plt.xticks(rotation=45, fontsize=12); plt.xlabel('Gender', fontsize=14)\n",
    "plt.yticks(rotation=45, fontsize=12); plt.ylabel('Mean salary', fontsize=14)\n",
    "plt.legend(bbox_to_anchor=(1.05, 1), loc=2, borderaxespad=0.1, fontsize=14)"
   ]
  },
  {
   "cell_type": "code",
   "execution_count": 25,
   "metadata": {},
   "outputs": [
    {
     "name": "stdout",
     "output_type": "stream",
     "text": [
      "df1 outliers removed 2\n"
     ]
    },
    {
     "data": {
      "text/plain": [
       "<matplotlib.legend.Legend at 0x7f417674fa20>"
      ]
     },
     "execution_count": 25,
     "metadata": {},
     "output_type": "execute_result"
    },
    {
     "data": {
      "image/png": "[encoded data removed]",
      "text/plain": [
       "<Figure size 720x576 with 1 Axes>"
      ]
     },
     "metadata": {
      "needs_background": "light"
     },
     "output_type": "display_data"
    }
   ],
   "source": [
    "def to_categorical(column, bin_size=5, min_cut=15, max_cut=50):\n",
    "    # All this calculates the intervals valuessurvey_results_public\n",
    "    if min_cut is None:\n",
    "        min_cut = int(round(column.min())) - 1\n",
    "    value_max = int(numpy.ceil(column.max()))\n",
    "    max_cut = min(max_cut, value_max)\n",
    "    intervals = [(x, x + bin_size) for x in range(min_cut, max_cut, bin_size)]\n",
    "    if max_cut != value_max:\n",
    "        intervals.append((max_cut, value_max))\n",
    "    #print(intervals)\n",
    "    # This applies pandas.cut function of \"column\" in \"intervals\"\n",
    "    return pd.cut(column, pd.IntervalIndex.from_tuples(intervals))\n",
    "\n",
    "def clean_outliers(dataset, column_name):\n",
    "    \"\"\"Returns dataset removing the outlier rows from column @column_name.\"\"\"\n",
    "    interesting_col = dataset[column_name]\n",
    "    # next line creates a boolean mask SERIES according to condition evaluated\n",
    "    mask_salarios_outlier = (numpy.abs(interesting_col - interesting_col.mean()) <= (3 * interesting_col.std()))\n",
    "    # next line returns a new dataset where ROWS with False have been removed\n",
    "    return dataset[mask_salarios_outlier] \n",
    "\n",
    "df1_data = clean_outliers(df1, \"age\")\n",
    "print(\"df1 outliers removed\", len(df1) - len(df1_data))\n",
    "df1_data = df1_data[~df1_data.age.isnull()]\n",
    "df1_data['age_segment'] = to_categorical(df1_data.age)\n",
    "\n",
    "long_dataset = df1_data.groupby([\"age_segment\"]).mean()[['junior_salary', 'senior_salary']]\n",
    "#long_dataset = long_dataset[~long_dataset.junior_salary.isnull()]\n",
    "#long_dataset = long_dataset[~long_dataset.senior_salary.isnull()]\n",
    "\n",
    "long_dataset = pd.melt(long_dataset.reset_index(), id_vars=['age_segment'],\n",
    "            value_vars=['junior_salary', 'senior_salary'],\n",
    "            var_name='estimation_type', value_name='estimation')\n",
    "#display(long_dataset)\n",
    "\n",
    "plt.figure(figsize=(10,8))\n",
    "sb.pointplot(data=long_dataset,x='age_segment', y='estimation',hue='estimation_type',\n",
    "             estimator=numpy.mean, dodge=True, ci=None, errwidth=1, capsize=0.2)\n",
    "plt.ylabel('Media de estimación')\n",
    "plt.xlabel('Edad')\n",
    "plt.title('Comparación entre las estimaciones de sueldo para programadores junior')\n",
    "plt.xticks(rotation=45, fontsize=12); plt.xlabel('Age segment', fontsize=14)\n",
    "plt.yticks(rotation=45, fontsize=12); plt.ylabel('Mean salary', fontsize=14)\n",
    "plt.legend(bbox_to_anchor=(1.05, 1), loc=2, borderaxespad=0.1, fontsize=14)"
   ]
  },
  {
   "cell_type": "markdown",
   "metadata": {},
   "source": [
    "## Heatmaps"
   ]
  },
  {
   "cell_type": "code",
   "execution_count": 26,
   "metadata": {},
   "outputs": [
    {
     "data": {
      "text/plain": [
       "<matplotlib.axes._subplots.AxesSubplot at 0x7f417727be10>"
      ]
     },
     "execution_count": 26,
     "metadata": {},
     "output_type": "execute_result"
    },
    {
     "data": {
      "image/png": "[encoded data removed]",
      "text/plain": [
       "<Figure size 576x288 with 2 Axes>"
      ]
     },
     "metadata": {
      "needs_background": "light"
     },
     "output_type": "display_data"
    }
   ],
   "source": [
    "plt.figure(figsize=(8,4))\n",
    "exp = pd.crosstab(df1_data.gender, df1_data.age_segment)\n",
    "sb.heatmap(exp, annot=True)"
   ]
  },
  {
   "cell_type": "markdown",
   "metadata": {},
   "source": [
    "## Jointplots"
   ]
  },
  {
   "cell_type": "code",
   "execution_count": 27,
   "metadata": {},
   "outputs": [
    {
     "data": {
      "text/plain": [
       "<seaborn.axisgrid.JointGrid at 0x7f4176775128>"
      ]
     },
     "execution_count": 27,
     "metadata": {},
     "output_type": "execute_result"
    },
    {
     "data": {
      "image/png": "[encoded data removed]",
      "text/plain": [
       "<Figure size 432x432 with 3 Axes>"
      ]
     },
     "metadata": {
      "needs_background": "light"
     },
     "output_type": "display_data"
    }
   ],
   "source": [
    "sb.jointplot(data=df1_data, x='age',y='junior_salary', kind='kde', height=6)"
   ]
  },
  {
   "cell_type": "markdown",
   "metadata": {},
   "source": [
    "## Pairplots"
   ]
  },
  {
   "cell_type": "code",
   "execution_count": 28,
   "metadata": {},
   "outputs": [
    {
     "data": {
      "text/plain": [
       "<seaborn.axisgrid.PairGrid at 0x7f41775936a0>"
      ]
     },
     "execution_count": 28,
     "metadata": {},
     "output_type": "execute_result"
    },
    {
     "data": {
      "image/png": "[encoded data removed]",
      "text/plain": [
       "<Figure size 990.875x864 with 12 Axes>"
      ]
     },
     "metadata": {
      "needs_background": "light"
     },
     "output_type": "display_data"
    }
   ],
   "source": [
    "sb.pairplot(data=df1_data, vars=['junior_salary', 'senior_salary', 'age'],hue='gender', height=4)"
   ]
  },
  {
   "cell_type": "markdown",
   "metadata": {},
   "source": [
    "## Catplots"
   ]
  },
  {
   "cell_type": "code",
   "execution_count": 29,
   "metadata": {},
   "outputs": [
    {
     "data": {
      "text/plain": [
       "Text(46.53718532986112, 0.5, 'Junior salary')"
      ]
     },
     "execution_count": 29,
     "metadata": {},
     "output_type": "execute_result"
    },
    {
     "data": {
      "image/png": "[encoded data removed]",
      "text/plain": [
       "<Figure size 486.875x360 with 1 Axes>"
      ]
     },
     "metadata": {
      "needs_background": "light"
     },
     "output_type": "display_data"
    }
   ],
   "source": [
    "sb.catplot(data=df1_data, x='age_segment', y='junior_salary', hue='gender', height=5, kind=\"swarm\")\n",
    "plt.xticks(rotation=45, fontsize=12); plt.xlabel('Age segment', fontsize=14)\n",
    "plt.yticks(rotation=45, fontsize=12); plt.ylabel('Junior salary', fontsize=14)\n",
    "\n"
   ]
  }
 ],
 "metadata": {
  "kernelspec": {
   "display_name": "Python 3",
   "language": "python",
   "name": "python3"
  },
  "language_info": {
   "codemirror_mode": {
    "name": "ipython",
    "version": 3
   },
   "file_extension": ".py",
   "mimetype": "text/x-python",
   "name": "python",
   "nbconvert_exporter": "python",
   "pygments_lexer": "ipython3",
   "version": "3.6.9"
  }
 },
 "nbformat": 4,
 "nbformat_minor": 4
}
